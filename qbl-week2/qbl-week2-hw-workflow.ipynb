{
 "cells": [
  {
   "cell_type": "markdown",
   "metadata": {},
   "source": [
    "# Steps 1-3: See bash file\n",
    "\n",
    "1. Index the sacCer3 genome with `bwa index`\n",
    "1. Align all seq files with `bwa mem` \n",
    "1. Create a sorted bam file with `samtools`, for input to variant callers\n",
    "\n",
    "# Step 4-7: Variant calling, filtering, decomposing, and effect prediction\n",
    "\n",
    "4. Varient calling: `freebayes -f -p 1 sacCer3.fa *sorted.bam` \n",
    "        note: `-p 1` is necessary for calling varients in haploid genome sequences\n",
    "5. filter for >0.99 quality: `vcffilter -f \"QUAL > 20\" > results.vcf`\n",
    "        (probability > 0.99 is equivalent to phred > 20)\n",
    "6. Decompose complex haplotypes: `vcfallelicprimitives -kg results.vcf > calls.vcf`\n",
    "7. Variant effect prediction: `snpeff ann R64-1-1.86 calls.vcf > calls_ann.vcf`\n",
    "\n",
    "also made file `head -1000 calls_ann.vcf > head_1000_calls.vcf` for pushing to github (see qbl-week2/data/)"
   ]
  },
  {
   "cell_type": "markdown",
   "metadata": {},
   "source": [
    "# Step 8: Exploratory data analysis through plotting"
   ]
  },
  {
   "cell_type": "code",
   "execution_count": 5,
   "metadata": {},
   "outputs": [
    {
     "data": {
      "text/plain": [
       "<AxesSubplot:ylabel='Frequency'>"
      ]
     },
     "metadata": {},
     "output_type": "display_data"
    },
    {
     "data": {
      "text/plain": [
       "<AxesSubplot:ylabel='Frequency'>"
      ]
     },
     "metadata": {},
     "output_type": "display_data"
    },
    {
     "data": {
      "text/plain": [
       "<AxesSubplot:ylabel='Frequency'>"
      ]
     },
     "metadata": {},
     "output_type": "display_data"
    },
    {
     "data": {
      "image/png": "[encoded data removed]",
      "text/plain": [
       "<Figure size 432x288 with 1 Axes>"
      ]
     },
     "metadata": {
      "needs_background": "light"
     },
     "output_type": "display_data"
    },
    {
     "data": {
      "image/png": "[encoded data removed]",
      "text/plain": [
       "<Figure size 432x288 with 1 Axes>"
      ]
     },
     "metadata": {
      "needs_background": "light"
     },
     "output_type": "display_data"
    },
    {
     "data": {
      "image/png": "[encoded data removed]",
      "text/plain": [
       "<Figure size 432x288 with 1 Axes>"
      ]
     },
     "metadata": {
      "needs_background": "light"
     },
     "output_type": "display_data"
    }
   ],
   "source": [
    "#starting it up...\n",
    "import numpy as nm\n",
    "import pandas as pd\n",
    "import matplotlib.pyplot as plt \n",
    "\n",
    "f = open(\"rawdata/calls_ann.vcf\", 'r')\n",
    "\n",
    "dp = [] #for the read depth distribution (histogram)\n",
    "gq = [] #for the genotype quality distribution (histogram)\n",
    "af = [] #for allele frequency spectrum (histogram)\n",
    "predicted_eff = {} #predicted effect of each variant as determined by snpEff (barplot)\n",
    "\n",
    "for i,line in enumerate(f): #reads per line\n",
    "    ann = line.split(\";\") #splits by semicolon, separating out everything in the FORMAT field\n",
    "    for j,field in enumerate(ann): \n",
    "        if \"DP=\" in field: #looks for read depth distribution\n",
    "            if \",\" in field: #deals with annoying fields with comma separated values\n",
    "                comma_split = field.split(\",\") #splits these again\n",
    "                for k,field2 in enumerate(comma_split):\n",
    "                    # now have to deal with the first value before the comma: \n",
    "                    if \"=\" in field2: # finds the \"=\"\n",
    "                        index = field2.index(\"=\") #uses the \"=\" as an index\n",
    "                        dp.append(int(field2[index+1:])) #only appends the value after the index\n",
    "                    else:\n",
    "                        dp.append(int(field2[:])) #adds each comma separated value to the list\n",
    "            else: #adds non-annoying fields\n",
    "                dp.append(int(field[3:])) #starting with after the \"DP=\"\n",
    "        elif \"QA=\" in field and \"P\" not in field: #looks for genome quality value (not \"PQA\")\n",
    "            if \",\" in field: #deals with annoying fields with comma separated values\n",
    "                comma_split = field.split(\",\") #splits these again\n",
    "                for l,field3 in enumerate(comma_split):\n",
    "                    # now have to deal with the first value before the comma: \n",
    "                    if \"=\" in field3: # finds the \"=\"\n",
    "                        index = field3.index(\"=\") #uses the \"=\" as an index\n",
    "                        gq.append(int(field3[index+1:])) #only appends the value after the index\n",
    "                    else:\n",
    "                        gq.append(int(field3[:])) #adds each comma separated value to the list\n",
    "            else: #adds non-annoying fields\n",
    "                gq.append(int(field[3:])) #starting with after the \"AF=\"\n",
    "        elif \"AF=\" in field and \"S\" not in field: #looks for allele frequency\n",
    "            if \",\" in field: #deals with annoying fields with comma separated values\n",
    "                comma_split = field.split(\",\") #splits these again\n",
    "                for m,field4 in enumerate(comma_split):\n",
    "                    # now have to deal with the first value before the comma: \n",
    "                    if \"=\" in field4: # finds the \"=\"\n",
    "                        index = field4.index(\"=\") #uses the \"=\" as an index\n",
    "                        af.append(float(field4[index+1:])) #only appends the value after the index\n",
    "                    else:\n",
    "                        af.append(float(field4[:])) #adds each comma separated value to the list\n",
    "            else: #adds non-annoying fields\n",
    "                af.append(float(field[3:])) #starting with after the \"AF=\"\n",
    "        else:\n",
    "            pass\n",
    "    if \"#\" in line:\n",
    "        pass\n",
    "    else:\n",
    "        bar_split = line.split(\"|\") #this time use bar to split fields\n",
    "        for n,field5 in enumerate(bar_split):\n",
    "            name = bar_split[2] #selects for the third column (\"Annotation_Impact\")\n",
    "            predicted_eff.setdefault(name,0) #adds to dictionary\n",
    "            predicted_eff[name]+=1 #values for dictionary\n",
    "\n",
    "keys=predicted_eff.keys()\n",
    "values=predicted_eff.values()\n",
    "  \n",
    "dp_df = pd.DataFrame(dp)\n",
    "dp_hist = dp_df.plot.hist(range=(0,150), bins=50)\n",
    "display(dp_hist)\n",
    "gq_df = pd.DataFrame(gq)\n",
    "gq_hist = gq_df.plot.hist(range=(0,4000), bins=100)\n",
    "display(gq_hist)\n",
    "af_df = pd.DataFrame(af)\n",
    "af_hist = af_df.plot.hist()\n",
    "display(af_hist)"
   ]
  },
  {
   "cell_type": "code",
   "execution_count": 14,
   "metadata": {},
   "outputs": [
    {
     "data": {
      "image/png": "[encoded data removed]",
      "text/plain": [
       "<Figure size 432x288 with 4 Axes>"
      ]
     },
     "metadata": {
      "needs_background": "light"
     },
     "output_type": "display_data"
    },
    {
     "data": {
      "text/plain": [
       "<Figure size 432x288 with 0 Axes>"
      ]
     },
     "metadata": {},
     "output_type": "display_data"
    }
   ],
   "source": [
    "# make four-panel (2x2) subplots\n",
    "\n",
    "fig, ax = plt.subplots(2,2)\n",
    "\n",
    "ax[1,1].bar(keys,values)\n",
    "ax[1,1].set_title(\"Summary of Predicted Effects\")\n",
    "ax[1,1].set_ylabel(\"Counts\")\n",
    "\n",
    "ax[0][0].hist(dp,range=(0,100),bins=50)\n",
    "ax[0][0].set_ylabel(\"Counts\")\n",
    "ax[0][0].set_xlabel(\"Read Depth\")\n",
    "\n",
    "ax[0][1].hist(gq,range=(0,2000),bins=100)\n",
    "ax[0][1].set_ylabel(\"Counts\")\n",
    "ax[0][1].set_xlabel(\"Quality Score\")\n",
    "\n",
    "ax[1][0].hist(af)\n",
    "ax[1][0].set_ylabel(\"Counts\")\n",
    "ax[1][0].set_xlabel(\"Allele Frequency\")\n",
    "\n",
    "fig.tight_layout()\n",
    "\n",
    "plt.xticks(rotation=45, ha='right')\n",
    "\n",
    "plt.show()\n",
    "plt.savefig(\"sacCer3_var.png\")\n"
   ]
  },
  {
   "cell_type": "code",
   "execution_count": null,
   "metadata": {},
   "outputs": [],
   "source": []
  },
  {
   "cell_type": "code",
   "execution_count": null,
   "metadata": {},
   "outputs": [],
   "source": []
  }
 ],
 "metadata": {
  "kernelspec": {
   "display_name": "Python 3",
   "language": "python",
   "name": "python3"
  },
  "language_info": {
   "codemirror_mode": {
    "name": "ipython",
    "version": 3
   },
   "file_extension": ".py",
   "mimetype": "text/x-python",
   "name": "python",
   "nbconvert_exporter": "python",
   "pygments_lexer": "ipython3",
   "version": "3.6.10"
  }
 },
 "nbformat": 4,
 "nbformat_minor": 4
}
