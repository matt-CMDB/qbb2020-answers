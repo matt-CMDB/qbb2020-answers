{
 "cells": [
  {
   "cell_type": "markdown",
   "metadata": {},
   "source": [
    "# Question 1"
   ]
  },
  {
   "cell_type": "markdown",
   "metadata": {},
   "source": [
    "### Question 1a. How long is the reference genome?\n"
   ]
  },
  {
   "cell_type": "markdown",
   "metadata": {},
   "source": [
    "input: `(base) [~/qbb2020-answers/qbl-week1]samtools faidx ref.fa`"
   ]
  },
  {
   "cell_type": "markdown",
   "metadata": {},
   "source": [
    "input: `(base) [~/qbb2020-answers/qbl-week1]head ref.fa.fai`"
   ]
  },
  {
   "cell_type": "markdown",
   "metadata": {},
   "source": [
    "output: `Halomonas       233806  11      70      71`"
   ]
  },
  {
   "cell_type": "markdown",
   "metadata": {},
   "source": [
    "The reference genome, Halomonas, is 233806 bps long"
   ]
  },
  {
   "cell_type": "markdown",
   "metadata": {},
   "source": [
    "### Question 1b. How many reads are provided and how long are they? "
   ]
  },
  {
   "cell_type": "markdown",
   "metadata": {},
   "source": [
    "Using FastQC, we find the following reads:"
   ]
  },
  {
   "cell_type": "code",
   "execution_count": 1,
   "metadata": {},
   "outputs": [
    {
     "data": {
      "text/html": [
       "<div>\n",
       "<style scoped>\n",
       "    .dataframe tbody tr th:only-of-type {\n",
       "        vertical-align: middle;\n",
       "    }\n",
       "\n",
       "    .dataframe tbody tr th {\n",
       "        vertical-align: top;\n",
       "    }\n",
       "\n",
       "    .dataframe thead th {\n",
       "        text-align: right;\n",
       "    }\n",
       "</style>\n",
       "<table border=\"1\" class=\"dataframe\">\n",
       "  <thead>\n",
       "    <tr style=\"text-align: right;\">\n",
       "      <th></th>\n",
       "      <th>File</th>\n",
       "      <th>Total Sequences</th>\n",
       "    </tr>\n",
       "  </thead>\n",
       "  <tbody>\n",
       "    <tr>\n",
       "      <th>0</th>\n",
       "      <td>frag.180.1</td>\n",
       "      <td>35178</td>\n",
       "    </tr>\n",
       "    <tr>\n",
       "      <th>1</th>\n",
       "      <td>frag.180.2</td>\n",
       "      <td>35178</td>\n",
       "    </tr>\n",
       "    <tr>\n",
       "      <th>2</th>\n",
       "      <td>jump2k.1</td>\n",
       "      <td>70355</td>\n",
       "    </tr>\n",
       "    <tr>\n",
       "      <th>3</th>\n",
       "      <td>jump2k.2</td>\n",
       "      <td>70355</td>\n",
       "    </tr>\n",
       "  </tbody>\n",
       "</table>\n",
       "</div>"
      ],
      "text/plain": [
       "         File  Total Sequences\n",
       "0  frag.180.1            35178\n",
       "1  frag.180.2            35178\n",
       "2    jump2k.1            70355\n",
       "3    jump2k.2            70355"
      ]
     },
     "execution_count": 1,
     "metadata": {},
     "output_type": "execute_result"
    }
   ],
   "source": [
    "import pandas as pd \n",
    "seq_nums = [['frag.180.1', 35178], ['frag.180.2', 35178], ['jump2k.1', 70355], ['jump2k.2', 70355]] \n",
    "df_seq_nums = pd.DataFrame(seq_nums, columns = ['File', 'Total Sequences']) \n",
    "df_seq_nums "
   ]
  },
  {
   "cell_type": "markdown",
   "metadata": {},
   "source": [
    "Total:"
   ]
  },
  {
   "cell_type": "code",
   "execution_count": 2,
   "metadata": {},
   "outputs": [
    {
     "data": {
      "text/plain": [
       "211066"
      ]
     },
     "execution_count": 2,
     "metadata": {},
     "output_type": "execute_result"
    }
   ],
   "source": [
    "total_reads = df_seq_nums['Total Sequences'].sum()\n",
    "total_reads"
   ]
  },
  {
   "cell_type": "markdown",
   "metadata": {},
   "source": [
    "### Question 1c. How much coverage do you expect to have? "
   ]
  },
  {
   "cell_type": "code",
   "execution_count": 3,
   "metadata": {},
   "outputs": [
    {
     "name": "stdout",
     "output_type": "stream",
     "text": [
      "exepect coverage of 90.27398783606922 times\n"
     ]
    }
   ],
   "source": [
    "genome = 233806\n",
    "read_lengths = 100\n",
    "total_reads = 211066\n",
    "\n",
    "coverage = (total_reads * read_lengths) / genome\n",
    "print(\"exepect coverage of\",coverage,\"times\")\n"
   ]
  },
  {
   "cell_type": "markdown",
   "metadata": {},
   "source": [
    "### Question 1d. Plot the average quality value across the length of the reads"
   ]
  },
  {
   "cell_type": "markdown",
   "metadata": {},
   "source": [
    "`see screenshot images in the current folder qbb2020-answers/qbl-week1/`"
   ]
  },
  {
   "cell_type": "markdown",
   "metadata": {},
   "source": [
    "# Question 2: Kmer analysis"
   ]
  },
  {
   "cell_type": "markdown",
   "metadata": {},
   "source": [
    "### Question 2a. How many kmers occur exactly 50 times?"
   ]
  },
  {
   "cell_type": "markdown",
   "metadata": {},
   "source": [
    "Use jellyfish to count 21 bp kmers:\n",
    "\n",
    "input: `jellyfish count -m 21 -C -s 1000000 *.fq` "
   ]
  },
  {
   "cell_type": "markdown",
   "metadata": {},
   "source": [
    "make histogram of kmer counts and pipe to new txt file:\n",
    "\n",
    "input: `jellyfish histo mer_counts.jf > 21mer_counts.txt`"
   ]
  },
  {
   "cell_type": "code",
   "execution_count": 4,
   "metadata": {},
   "outputs": [
    {
     "data": {
      "text/html": [
       "<div>\n",
       "<style scoped>\n",
       "    .dataframe tbody tr th:only-of-type {\n",
       "        vertical-align: middle;\n",
       "    }\n",
       "\n",
       "    .dataframe tbody tr th {\n",
       "        vertical-align: top;\n",
       "    }\n",
       "\n",
       "    .dataframe thead th {\n",
       "        text-align: right;\n",
       "    }\n",
       "</style>\n",
       "<table border=\"1\" class=\"dataframe\">\n",
       "  <thead>\n",
       "    <tr style=\"text-align: right;\">\n",
       "      <th></th>\n",
       "      <th>occurrences</th>\n",
       "      <th>uniqe_kmers</th>\n",
       "    </tr>\n",
       "  </thead>\n",
       "  <tbody>\n",
       "    <tr>\n",
       "      <th>0</th>\n",
       "      <td>1</td>\n",
       "      <td>1408358</td>\n",
       "    </tr>\n",
       "    <tr>\n",
       "      <th>1</th>\n",
       "      <td>2</td>\n",
       "      <td>58383</td>\n",
       "    </tr>\n",
       "    <tr>\n",
       "      <th>2</th>\n",
       "      <td>3</td>\n",
       "      <td>2061</td>\n",
       "    </tr>\n",
       "    <tr>\n",
       "      <th>3</th>\n",
       "      <td>4</td>\n",
       "      <td>57</td>\n",
       "    </tr>\n",
       "    <tr>\n",
       "      <th>4</th>\n",
       "      <td>5</td>\n",
       "      <td>12</td>\n",
       "    </tr>\n",
       "    <tr>\n",
       "      <th>...</th>\n",
       "      <td>...</td>\n",
       "      <td>...</td>\n",
       "    </tr>\n",
       "    <tr>\n",
       "      <th>80</th>\n",
       "      <td>97</td>\n",
       "      <td>1</td>\n",
       "    </tr>\n",
       "    <tr>\n",
       "      <th>81</th>\n",
       "      <td>98</td>\n",
       "      <td>2</td>\n",
       "    </tr>\n",
       "    <tr>\n",
       "      <th>82</th>\n",
       "      <td>101</td>\n",
       "      <td>1</td>\n",
       "    </tr>\n",
       "    <tr>\n",
       "      <th>83</th>\n",
       "      <td>104</td>\n",
       "      <td>2</td>\n",
       "    </tr>\n",
       "    <tr>\n",
       "      <th>84</th>\n",
       "      <td>105</td>\n",
       "      <td>1</td>\n",
       "    </tr>\n",
       "  </tbody>\n",
       "</table>\n",
       "<p>85 rows × 2 columns</p>\n",
       "</div>"
      ],
      "text/plain": [
       "    occurrences  uniqe_kmers\n",
       "0             1      1408358\n",
       "1             2        58383\n",
       "2             3         2061\n",
       "3             4           57\n",
       "4             5           12\n",
       "..          ...          ...\n",
       "80           97            1\n",
       "81           98            2\n",
       "82          101            1\n",
       "83          104            2\n",
       "84          105            1\n",
       "\n",
       "[85 rows x 2 columns]"
      ]
     },
     "metadata": {},
     "output_type": "display_data"
    },
    {
     "data": {
      "text/plain": [
       "occurrences      50\n",
       "uniqe_kmers    1091\n",
       "Name: 49, dtype: int64"
      ]
     },
     "metadata": {},
     "output_type": "display_data"
    }
   ],
   "source": [
    "jf_df = pd.read_csv('data/21mer_counts.txt', sep=\" \", header=None) #reads the jellyfish output file\n",
    "jf_df.columns = [\"occurrences\", \"uniqe_kmers\"] #creates dataframe from jellyfish data\n",
    "\n",
    "display(jf_df) # displays entire dataframe to make sure that worked\n",
    "display(jf_df.iloc[49]) # finds 50th row for \"how many kmers occur 50 times\""
   ]
  },
  {
   "cell_type": "markdown",
   "metadata": {},
   "source": [
    "### Question 2c. What is the estimated genome size based on the kmer frequencies? "
   ]
  },
  {
   "cell_type": "markdown",
   "metadata": {},
   "source": [
    "Results from GenomeScope:\n",
    "\n",
    "`GenomeScope version 1.0`\n",
    "`k = 21`\n",
    "\n",
    "`property                      min               max               \n",
    "Heterozygosity                0.00375116%       0.0157524%        \n",
    "Genome Haploid Length         233,468 bp        233,805 bp        \n",
    "Genome Repeat Length          -257 bp           -257 bp           \n",
    "Genome Unique Length          233,725 bp        234,062 bp        \n",
    "Model Fit                     98.7622%          NA%               \n",
    "Read Error Rate               0.801898%         0.801898%`"
   ]
  },
  {
   "cell_type": "markdown",
   "metadata": {},
   "source": [
    "### Question 2d. How well does the GenomeScope genome size estimate compare to the reference genome? \n",
    "Based on the GenomeScope results, the estimated genome size is between **233,468** and **233,805** basepairs, which is very close to the reference genome size of **233,806**"
   ]
  },
  {
   "cell_type": "markdown",
   "metadata": {},
   "source": [
    "# Question 3: de novo assembly"
   ]
  },
  {
   "cell_type": "markdown",
   "metadata": {},
   "source": [
    "### Question 3a. How many contigs were produced?"
   ]
  },
  {
   "cell_type": "markdown",
   "metadata": {},
   "source": [
    "Assemble the reads using Spades:\n",
    "\n",
    "`spades.py --pe1-1 frag180.1.fq --pe1-2 frag180.2.fq --mp1-1 jump2k.1.fq --mp1-2 jump2k.2.fq -o asm -k 31`\n",
    "\n",
    "### Question 3a. How many contigs were produced? [Hint: try grep -c '>' contigs.fasta]\n",
    "\n",
    "input: `grep -c '>' contigs.fasta`\n",
    "\n",
    "output: `4`\n",
    "\n",
    "### Question 3b. What is the total length of the contigs? \n",
    "\n",
    "Use samtools to create a file with contig information:\n",
    "\n",
    "input: `samtools faidx asm/contigs.fasta`\n",
    "\n",
    "Sort file by largest contig length (for question 3c below):\n",
    "\n",
    "input: `sort -n asm/contigs.fasta.fai > contigs.fasta.fai`\n",
    "\n",
    "To find total length of the four contigs:\n"
   ]
  },
  {
   "cell_type": "code",
   "execution_count": 5,
   "metadata": {},
   "outputs": [
    {
     "data": {
      "text/html": [
       "<div>\n",
       "<style scoped>\n",
       "    .dataframe tbody tr th:only-of-type {\n",
       "        vertical-align: middle;\n",
       "    }\n",
       "\n",
       "    .dataframe tbody tr th {\n",
       "        vertical-align: top;\n",
       "    }\n",
       "\n",
       "    .dataframe thead th {\n",
       "        text-align: right;\n",
       "    }\n",
       "</style>\n",
       "<table border=\"1\" class=\"dataframe\">\n",
       "  <thead>\n",
       "    <tr style=\"text-align: right;\">\n",
       "      <th></th>\n",
       "      <th>name</th>\n",
       "      <th>contig_length</th>\n",
       "      <th>offset</th>\n",
       "      <th>linebases</th>\n",
       "      <th>linewidth</th>\n",
       "    </tr>\n",
       "  </thead>\n",
       "  <tbody>\n",
       "    <tr>\n",
       "      <th>0</th>\n",
       "      <td>NODE_1_length_105831_cov_20.671371</td>\n",
       "      <td>105831</td>\n",
       "      <td>36</td>\n",
       "      <td>60</td>\n",
       "      <td>61</td>\n",
       "    </tr>\n",
       "    <tr>\n",
       "      <th>1</th>\n",
       "      <td>NODE_2_length_47861_cov_20.231319</td>\n",
       "      <td>47861</td>\n",
       "      <td>107666</td>\n",
       "      <td>60</td>\n",
       "      <td>61</td>\n",
       "    </tr>\n",
       "    <tr>\n",
       "      <th>2</th>\n",
       "      <td>NODE_3_length_41352_cov_20.588756</td>\n",
       "      <td>41352</td>\n",
       "      <td>156360</td>\n",
       "      <td>60</td>\n",
       "      <td>61</td>\n",
       "    </tr>\n",
       "    <tr>\n",
       "      <th>3</th>\n",
       "      <td>NODE_4_length_39423_cov_20.384723</td>\n",
       "      <td>39423</td>\n",
       "      <td>198437</td>\n",
       "      <td>60</td>\n",
       "      <td>61</td>\n",
       "    </tr>\n",
       "  </tbody>\n",
       "</table>\n",
       "</div>"
      ],
      "text/plain": [
       "                                 name  contig_length  offset  linebases  \\\n",
       "0  NODE_1_length_105831_cov_20.671371         105831      36         60   \n",
       "1   NODE_2_length_47861_cov_20.231319          47861  107666         60   \n",
       "2   NODE_3_length_41352_cov_20.588756          41352  156360         60   \n",
       "3   NODE_4_length_39423_cov_20.384723          39423  198437         60   \n",
       "\n",
       "   linewidth  \n",
       "0         61  \n",
       "1         61  \n",
       "2         61  \n",
       "3         61  "
      ]
     },
     "metadata": {},
     "output_type": "display_data"
    },
    {
     "name": "stdout",
     "output_type": "stream",
     "text": [
      "total length of all the contigs: 234467\n"
     ]
    }
   ],
   "source": [
    "df_contigs = pd.read_csv('asm/contigs.fasta.fai', sep=\"\\t\", header=None) #read samtools faidx file\n",
    "df_contigs.columns = [\"name\",\"contig_length\",\"offset\",\"linebases\",\"linewidth\"]\n",
    "\n",
    "display(df_contigs) # show the output of the contigs file\n",
    "\n",
    "total_contigs_length = df_contigs['contig_length'].sum()\n",
    "print(\"total length of all the contigs:\",total_contigs_length)\n"
   ]
  },
  {
   "cell_type": "markdown",
   "metadata": {},
   "source": [
    "### Question 3c. What is the size of your largest contig? \n",
    "\n",
    "Answer: 105831\n",
    "\n",
    "### Question 3d. What is the contig N50 size?"
   ]
  },
  {
   "cell_type": "code",
   "execution_count": 6,
   "metadata": {},
   "outputs": [
    {
     "name": "stdout",
     "output_type": "stream",
     "text": [
      "half the size of the genome: 116903.0\n",
      "sum of contig1 and contig2: 153692\n"
     ]
    }
   ],
   "source": [
    "target = genome*0.5\n",
    "print(\"half the size of the genome:\",target)\n",
    "\n",
    "#instead of writing a script, I'm going to be lazy and just look at the four contigs by hand:\n",
    "N50 = 105831 + 47861\n",
    "print (\"sum of contig1 and contig2:\",N50)"
   ]
  },
  {
   "cell_type": "markdown",
   "metadata": {},
   "source": [
    "The contig N50 size is `47861`"
   ]
  },
  {
   "cell_type": "markdown",
   "metadata": {},
   "source": [
    "# Question 4. Whole Genome Alignment\n",
    "\n",
    "For these questions, see files in MUMer folder.\n",
    "\n",
    "### Question 4a. What is the average identity of your assembly compared to the reference?\n",
    "\n",
    "Answer: **100%**\n",
    "\n",
    "### Question 4b. What is the length of the longest alignment?"
   ]
  },
  {
   "attachments": {},
   "cell_type": "markdown",
   "metadata": {},
   "source": [
    "input: `show-coords -r -g out.delta`\n",
    "\n",
    "(output is saved as a screenshot in folder)\n",
    "\n",
    "the longest alignment is also the longet contig: **105,831** bp"
   ]
  },
  {
   "cell_type": "markdown",
   "metadata": {},
   "source": [
    "### Question 4c. How many insertions and deletions are in the assembly?\n",
    "The out.report file indicates that there are **712** bp insertions and **51** deletions compared to the reference genome.\n"
   ]
  },
  {
   "cell_type": "markdown",
   "metadata": {},
   "source": [
    "# Question 5. Decoding the insertion\n",
    "\n",
    "### Question 5a. What is the position of the insertion in your assembly? \n",
    "\n",
    "See `show-coords` output above. The insertion is after nucleotide 26789 in the reference genome\n",
    "\n",
    "### Question 5b. How long is the novel insertion?"
   ]
  },
  {
   "cell_type": "code",
   "execution_count": 10,
   "metadata": {},
   "outputs": [
    {
     "name": "stdout",
     "output_type": "stream",
     "text": [
      "the novel insertion is 712 bp long\n"
     ]
    }
   ],
   "source": [
    "# the length of the insertion will be the length of the whole contig,\n",
    "# minus the lengths of all the matched alignments to the reference\n",
    "insertion = 41352 - 26787 - 13853\n",
    "print(\"the novel insertion is\",insertion,\"bp long\")"
   ]
  },
  {
   "cell_type": "markdown",
   "metadata": {},
   "source": [
    "### Question 5c. What is the DNA sequence of the encoded message?"
   ]
  },
  {
   "cell_type": "markdown",
   "metadata": {},
   "source": [
    "input: `samtools faidx asm/contigs.fasta NODE_3_length_41352_cov_20.588756:13854-14565 > insertion.txt`\n",
    "\n",
    "sequence:\n",
    "\n",
    "NODE_3_length_41352_cov_20.588756:13854-14565\n",
    "\n",
    "TAACGATTTACATCGGGAAAGCTTAATGCAATTCACGCAGATATTCAGCTTAGAAGGTAC\n",
    "GCAGCGGTGACGGGGTGCGGTCCATAATCTATGAAGCTATGAATTCGTACCTCAAGTAAT\n",
    "GTTTTCTTCGCTGCAGTTCAGAAGTGATAAAGGTATCCCGCTTAGCCTGGCATACTTTGT\n",
    "GCGTTCGTACCGCCCAGCATTAATGACTTGTGTAGGCAAGTAATGAACGACTCTTCTACG\n",
    "CCGCGCCTAACCTCCGCACATAATGGCAGCATGTGGTAGTTACATACGCACAGAAGTGGT\n",
    "TCGGTTTTAACTATAGTCAGATATGAATAAGCTGCGTGTGTCGTTGTGTCGGCGTGTCGT\n",
    "ACTTACCTCCTGACATAGGTGAATTTCAGCCTACTGTAAGTTTGGAGTCGCGCTCTTTTC\n",
    "TTATTATATTCTTTGGTATGTGTGTGATGGGTTCGGGCGTGTATTGATGTCTCTAAGGCT\n",
    "CATGTTAGTGTTTATTTGGTCAGTTATGACGGTGTTCCTGTCGTACGTGTTGGCTTAGCG\n",
    "GACTTGTAGACGGGATCAAGGTTGTCTGACCCTCCGGTCGACCGTGGGTCGGCCGTCCCG\n",
    "GCCAGAATACAAGCCGCTTAGACTTTCGAAAGAGGGTAAGTTACTACGCGCGAACGTTAT\n",
    "ACCTCGTTTCAGTATGCACTCCCTTAAGTCACTCAGAAAAGACTAAGGGGCT\n"
   ]
  },
  {
   "cell_type": "markdown",
   "metadata": {},
   "source": [
    "### Question 5c. What is the secret message?\n",
    "\n",
    "input: `python ported_decoder.py -d --rev_comp --input 'insertion.txt'`\n",
    "\n",
    "output: `Congratulations to the 2020 CMDB @ JHU class!  Keep on looking for little green aliens...`\n"
   ]
  }
 ],
 "metadata": {
  "kernelspec": {
   "display_name": "Python 3",
   "language": "python",
   "name": "python3"
  },
  "language_info": {
   "codemirror_mode": {
    "name": "ipython",
    "version": 3
   },
   "file_extension": ".py",
   "mimetype": "text/x-python",
   "name": "python",
   "nbconvert_exporter": "python",
   "pygments_lexer": "ipython3",
   "version": "3.6.10"
  }
 },
 "nbformat": 4,
 "nbformat_minor": 4
}
