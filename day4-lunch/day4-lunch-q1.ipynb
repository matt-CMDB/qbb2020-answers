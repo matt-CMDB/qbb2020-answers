{
 "cells": [
  {
   "cell_type": "markdown",
   "metadata": {},
   "source": [
    "# Main Exercise: Binary Search"
   ]
  },
  {
   "cell_type": "markdown",
   "metadata": {},
   "source": [
    "- Find and report the nearest protein coding gene to the position 3R:21,378,950.\n",
    "- Report the gene's linear genomic distance from 3R:21,378,950.\n",
    "- Report the number of iterations (a tally) that it took the search procedure to find the nearest gene.\n",
    "\n",
    "Hints: \n",
    "1. Consider the gene_biotype while parsing the input .gtf file.\n",
    "2. To fully utilize the fact that the annotation file is pre-sorted, you can assume that the gene's start and stop positions do not depend on strand.\n",
    "3. What is the distance between a position and a gene if the position is within the gene borders?"
   ]
  },
  {
   "cell_type": "raw",
   "metadata": {},
   "source": [
    "general steps/pseudocode\n",
    "\n",
    "1. open file\n",
    "    2. remove (or skip) first five lines\n",
    "    3. skip first 5 lines\n",
    "    1. split each lines\n",
    "    1. we want to know from each line: \n",
    "        chrom, start, end, gene_name, feature_name, and gene_biotype\n",
    "        only store protein coding genes on 3R\n",
    "    now we should have a data structure like this: [(gene_name, start, end), (gene_name, start, end)...]\n",
    "    first index: 0\n",
    "    last index: length(list) - 1\n",
    "    middle = (last index)//2\n",
    "    \n",
    "while True:\n",
    "    if high == low+1:\n",
    "        find distance to end of low\n",
    "        find distance to start of high\n",
    "        q1 = find search_pos - end of low\n",
    "        q2 = find search_pos - start of high\n",
    "        if q1 < q2, print q1\n",
    "        if q2 < q1, print q2\n",
    "        break\n",
    "    elif search_pos < stored_data[middle][1]:\n",
    "        search again using \"last index\" as the new \"middle index\"\n",
    "        redefine \"mid\" as (\"new high\"//2)\n",
    "    elif search_pos > stored_data[middle][2]:\n",
    "        search again redefining \"first index\" as new \"middle index\"\n",
    "        redefine \"mid\" as (\"new high\"//2)\n",
    "        search again using \"last index\" as the new \"middle index\"\n",
    "        redefine \"mid\" as (\"new high\"//2)\n",
    "    else: \n",
    "        print gene_name\n",
    "        break"
   ]
  },
  {
   "cell_type": "code",
   "execution_count": 1,
   "metadata": {
    "scrolled": false
   },
   "outputs": [
    {
     "name": "stdout",
     "output_type": "stream",
     "text": [
      "3R\tFlyBase\tgene\t722370\t722621\t.\t-\t.\tgene_id \"FBgn0085804\"; gene_version \"1\"; gene_name \"CR41571\"; gene_source \"FlyBase\"; gene_biotype \"pseudogene\";\n",
      "\n",
      "3R\tFlyBase\ttranscript\t722370\t722621\t.\t-\t.\tgene_id \"FBgn0085804\"; gene_version \"1\"; transcript_id \"FBtr0114258\"; transcript_version \"1\"; gene_name \"CR41571\"; gene_source \"FlyBase\"; gene_biotype \"pseudogene\"; transcript_name \"CR41571-RA\"; transcript_source \"FlyBase\"; transcript_biotype \"pseudogene\";\n",
      "\n",
      "3R\tFlyBase\texon\t722370\t722621\t.\t-\t.\tgene_id \"FBgn0085804\"; gene_version \"1\"; transcript_id \"FBtr0114258\"; transcript_version \"1\"; exon_number \"1\"; gene_name \"CR41571\"; gene_source \"FlyBase\"; gene_biotype \"pseudogene\"; transcript_name \"CR41571-RA\"; transcript_source \"FlyBase\"; transcript_biotype \"pseudogene\"; exon_id \"FBtr0114258-E1\"; exon_version \"1\";\n",
      "\n",
      "3R\tFlyBase\tgene\t835381\t2503907\t.\t+\t.\tgene_id \"FBgn0267431\"; gene_version \"1\"; gene_name \"CG45784\"; gene_source \"FlyBase\"; gene_biotype \"protein_coding\";\n",
      "\n",
      "3R\tFlyBase\ttranscript\t835381\t2503907\t.\t+\t.\tgene_id \"FBgn0267431\"; gene_version \"1\"; transcript_id \"FBtr0346770\"; transcript_version \"1\"; gene_name \"CG45784\"; gene_source \"FlyBase\"; gene_biotype \"protein_coding\"; transcript_name \"CG45784-RA\"; transcript_source \"FlyBase\"; transcript_biotype \"protein_coding\";\n",
      "\n"
     ]
    }
   ],
   "source": [
    "#open file:\n",
    "fs = open(\"/Users/cmdb/data/genomes/BDGP6.Ensembl.81.gtf\")\n",
    "\n",
    "# code to print first five lines, without header (to make sure that the file opened)\n",
    "count = 0\n",
    "\n",
    "for line in fs:\n",
    "    if line.count(\"#!\")==1:\n",
    "        continue    \n",
    "    elif count < 5:\n",
    "        count += 1\n",
    "        print(line)\n",
    "        continue\n",
    "    else:\n",
    "        break\n",
    "        "
   ]
  },
  {
   "cell_type": "code",
   "execution_count": 2,
   "metadata": {},
   "outputs": [],
   "source": [
    "# build list\n",
    "\n",
    "seq_glist=[]\n",
    "\n",
    "fs = open(\"/Users/cmdb/data/genomes/BDGP6.Ensembl.81.gtf\")\n",
    "\n",
    "for line in fs:\n",
    "    if \"#!\" in line:\n",
    "        continue\n",
    "    if \"3R\"+\"\\t\" in line:\n",
    "        if \"gene\"+\"\\t\" in line:\n",
    "            if \"protein_coding\" in line:\n",
    "                fields = line.split()\n",
    "                seq_glist.append([int(fields[3]), int(fields[4]), fields[13]])\n",
    "            else:\n",
    "                continue\n",
    "        else:\n",
    "            continue"
   ]
  },
  {
   "cell_type": "code",
   "execution_count": 3,
   "metadata": {},
   "outputs": [
    {
     "data": {
      "text/plain": [
       "[835381, 2503907, '\"CG45784\";']"
      ]
     },
     "execution_count": 3,
     "metadata": {},
     "output_type": "execute_result"
    }
   ],
   "source": [
    "seq_glist[0]"
   ]
  },
  {
   "cell_type": "code",
   "execution_count": 4,
   "metadata": {},
   "outputs": [
    {
     "name": "stdout",
     "output_type": "stream",
     "text": [
      "found downstread of: \"tin\";\n"
     ]
    }
   ],
   "source": [
    "\n",
    "lowest = 0\n",
    "highest = len(seq_glist)-1\n",
    "middle = (highest)//2\n",
    "\n",
    "target = 21378950\n",
    "    \n",
    "while True:\n",
    "    if (highest-lowest)<=1: \n",
    "        # what happens once we know we're in between lowest and highest\n",
    "        if seq_glist[lowest][0] < target < seq_glist[lowest][1]:\n",
    "            # if the locus is in the lower gene:\n",
    "            print(\"found in gene:\",seq_glist[lowest][2])\n",
    "            break\n",
    "        elif seq_glist[highest][0] < target < seq_glist[highest][1]:\n",
    "            # if the locus is in the higher gene:\n",
    "            print(\"found in gene:\",seq_glist[highest][2])\n",
    "            break\n",
    "        else:\n",
    "            q1 = target - seq_glist[lowest][1]\n",
    "            q2 = seq_glist[highest][0] - target\n",
    "            if q1 < q2:\n",
    "                print (\"found upstream of:\",seq_glist[lowest][2])\n",
    "                break\n",
    "            else:\n",
    "                print (\"found downstread of:\",seq_glist[highest][2])\n",
    "                break\n",
    "    elif target < int(seq_glist[middle][0]):\n",
    "        highest = middle\n",
    "        middle = highest//2\n",
    "        continue\n",
    "    elif target > int(seq_glist[middle][1]):\n",
    "        lowest = middle\n",
    "        middle = lowest + ((highest - lowest)//2)\n",
    "        continue\n",
    "    else: \n",
    "        print (\"found in gene:\",seq_glist[middle][2])\n",
    "        break\n"
   ]
  },
  {
   "cell_type": "code",
   "execution_count": null,
   "metadata": {},
   "outputs": [],
   "source": []
  }
 ],
 "metadata": {
  "kernelspec": {
   "display_name": "Python 3",
   "language": "python",
   "name": "python3"
  },
  "language_info": {
   "codemirror_mode": {
    "name": "ipython",
    "version": 3
   },
   "file_extension": ".py",
   "mimetype": "text/x-python",
   "name": "python",
   "nbconvert_exporter": "python",
   "pygments_lexer": "ipython3",
   "version": "3.6.10"
  }
 },
 "nbformat": 4,
 "nbformat_minor": 4
}
