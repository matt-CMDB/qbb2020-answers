{
 "cells": [
  {
   "cell_type": "markdown",
   "metadata": {},
   "source": [
    "# Advanced Exercises\n",
    "\n",
    "### 2: Find the 20 nearest protein coding genes for 3R:21,378,950\n",
    "Report the names of these genes, from closest to furthest away.\n",
    "Report their corresponding linear genomic distances from 3R:21,378,950.\n",
    "\n",
    "### 3: Find the nearest gene of any biotype\n",
    "Hint: You are no longer limiting your search to just protein coding genes.\n",
    "- What is the name of this gene?\n",
    "- What is its biotype?\n",
    "\n",
    "### 4: Find the nearest protein coding gene for each position in a given list of positions\n",
    "Retrieve the list of positions of interest by running this code on the command line:\n",
    "\n",
    "`$ wget \"https://raw.githubusercontent.com/bxlab/qbb2019/master/assignments/day3-lunch/day3_100_positions.txt\"`\n",
    "\n",
    "For each position:\n",
    "1. Report the nearest protein coding gene.\n",
    "1. Report how many iterations the search for each position takes."
   ]
  },
  {
   "cell_type": "code",
   "execution_count": null,
   "metadata": {},
   "outputs": [],
   "source": [
    "# define new function based on previous assignment:\n",
    "\n",
    "def seq_search(target):\n",
    "    fs = open(\"/Users/cmdb/data/genomes/BDGP6.Ensembl.81.gtf\")\n",
    "\n",
    "    seq_glist=[]\n",
    "    for line in fs:\n",
    "        if \"#!\" in line:\n",
    "            continue\n",
    "        if \"3R\"+\"\\t\" in line:\n",
    "            if \"gene\"+\"\\t\" in line:\n",
    "                if \"protein_coding\" in line:\n",
    "                    fields = line.split()\n",
    "                    seq_glist.append([int(fields[3]), int(fields[4]), fields[13]])\n",
    "                else:\n",
    "                    continue\n",
    "            else:\n",
    "                continue\n",
    "    \n",
    "    lowest = 0\n",
    "    highest = len(seq_glist)-1\n",
    "    middle = (highest)//2\n",
    "\n",
    "    while True:\n",
    "        if (highest-lowest)<=1:\n",
    "            if seq_glist[lowest][0] < target < seq_glist[lowest][1]:\n",
    "                print(\"found in gene:\",seq_glist[lowest][2])\n",
    "                break\n",
    "            elif seq_glist[highest][0] < target < seq_glist[highest][1]:\n",
    "                print(\"found in gene:\",seq_glist[highest][2])\n",
    "                break\n",
    "            else:\n",
    "                q1 = target - seq_glist[lowest][1]\n",
    "                q2 = seq_glist[highest][0] - target\n",
    "                if q1 < q2:\n",
    "                    print (\"found upstream of:\",seq_glist[lowest][2])\n",
    "                    break\n",
    "                else:\n",
    "                    print (\"found downstread of:\",seq_glist[highest][2])\n",
    "                    break\n",
    "        elif target < int(seq_glist[middle][0]):\n",
    "            highest = middle\n",
    "            middle = highest//2\n",
    "            continue\n",
    "        elif target > int(seq_glist[middle][1]):\n",
    "            lowest = middle\n",
    "            middle = lowest + ((highest - lowest)//2)\n",
    "            continue\n",
    "        else: \n",
    "            print (\"found in gene:\",seq_glist[middle][2])\n",
    "            break\n"
   ]
  }
 ],
 "metadata": {
  "kernelspec": {
   "display_name": "Python 3",
   "language": "python",
   "name": "python3"
  },
  "language_info": {
   "codemirror_mode": {
    "name": "ipython",
    "version": 3
   },
   "file_extension": ".py",
   "mimetype": "text/x-python",
   "name": "python",
   "nbconvert_exporter": "python",
   "pygments_lexer": "ipython3",
   "version": "3.6.10"
  }
 },
 "nbformat": 4,
 "nbformat_minor": 4
}
