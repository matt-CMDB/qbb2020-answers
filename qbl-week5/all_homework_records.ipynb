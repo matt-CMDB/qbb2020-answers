{
 "cells": [
  {
   "cell_type": "markdown",
   "metadata": {},
   "source": [
    "# Part 1: ChIP-Seq (mostly in command line)"
   ]
  },
  {
   "cell_type": "markdown",
   "metadata": {},
   "source": [
    "Download and generate index for mouse chromosome 19:\n",
    "`bowtie2-build chr19.fa chr19_index`\n",
    "\n",
    "#### Map each read:\n",
    "\n",
    "`\n",
    "for sample in CTCF_ER4 CTCF_G1E input_ER4 input_G1E\n",
    "do\n",
    "    bowtie2 -x chr19_index -U ${sample}.fastq -S ${sample}.sam -p 6 \n",
    "    samtools view -bSo ${sample}.bam ${sample}.sam\n",
    "    samtools sort ${sample}.bam -o ${sample}.sorted.bam\n",
    "    samtools index ${sample}.sorted.bam\n",
    "done\n",
    "`"
   ]
  },
  {
   "cell_type": "markdown",
   "metadata": {},
   "source": [
    "\n",
    "#### Call peaks for CTCF files:\n",
    "\n",
    "`macs2 callpeak -t CTCF_ER4.bam -c input_ER4.bam --format=BAM --name=CTCF_ER4 --gsize=61000000 --tsize=36`\n",
    "\n",
    "`macs2 callpeak -t CTCF_G1E.bam -c input_G1E.bam --format=BAM --name=CTCF_G1E --gsize=61000000 --tsize=36`\n",
    "\n",
    "#### Differential binding of CTCF:\n",
    "\n",
    "used bedtools intersect and -v flag (based on bedtools documentation) to determine differences between CTCF binding sites by comparing bed files from before (G1E) and after (ER4) differentiation:\n",
    "\n",
    "`bedtools intersect -a CTCF_G1E_peaks.narrowPeak -b CTCF_ER4_peaks.narrowPeak -v > lost_CTCF.bed`\n",
    "\n",
    "`bedtools intersect -a CTCF_ER4_peaks.narrowPeak -b CTCF_G1E_peaks.narrowPeak -v > gained_CTCF.bed`\n",
    "\n",
    "#### Feature overlapping:\n",
    "\n",
    "download features file:\n",
    "\n",
    "    `wget https://raw.githubusercontent.com/bxlab/qbb2020/master/week5/Mus_musculus.GRCm38.94_features.bed`\n",
    "\n",
    "use bedtools intersect again to find overlapping sites:\n",
    "\n",
    "    `bedtools intersect -a Mus_musculus.GRCm38.94_features.bed -b CTCF_G1E_peaks.narrowPeak > features_CTCF_G1E.bed\n",
    "\n",
    "    bedtools intersect -a Mus_musculus.GRCm38.94_features.bed -b CTCF_ER4_peaks.narrowPeak > features_CTCF_ER4.bed`\n",
    "\n",
    "Count the number of features which overlap with CTCF binding sites by cutting the relevant column from each file:\n",
    "\n",
    "    `cut -f 4 features_CTCF_G1E.bed | sort | uniq -c > overlap_count_G1E.txt\n",
    "\n",
    "    cut -f 4 features_CTCF_ER4.bed | sort | uniq -c > overlap_count_ER4.txt`"
   ]
  },
  {
   "cell_type": "markdown",
   "metadata": {},
   "source": [
    "## Two-panel Bar Plots"
   ]
  },
  {
   "cell_type": "code",
   "execution_count": 2,
   "metadata": {},
   "outputs": [
    {
     "data": {
      "text/html": [
       "<div>\n",
       "<style scoped>\n",
       "    .dataframe tbody tr th:only-of-type {\n",
       "        vertical-align: middle;\n",
       "    }\n",
       "\n",
       "    .dataframe tbody tr th {\n",
       "        vertical-align: top;\n",
       "    }\n",
       "\n",
       "    .dataframe thead th {\n",
       "        text-align: right;\n",
       "    }\n",
       "</style>\n",
       "<table border=\"1\" class=\"dataframe\">\n",
       "  <thead>\n",
       "    <tr style=\"text-align: right;\">\n",
       "      <th></th>\n",
       "      <th>G1E</th>\n",
       "      <th>type</th>\n",
       "      <th>ER4</th>\n",
       "    </tr>\n",
       "  </thead>\n",
       "  <tbody>\n",
       "    <tr>\n",
       "      <th>0</th>\n",
       "      <td>101</td>\n",
       "      <td>exon</td>\n",
       "      <td>84</td>\n",
       "    </tr>\n",
       "    <tr>\n",
       "      <th>1</th>\n",
       "      <td>341</td>\n",
       "      <td>intron</td>\n",
       "      <td>307</td>\n",
       "    </tr>\n",
       "    <tr>\n",
       "      <th>2</th>\n",
       "      <td>67</td>\n",
       "      <td>promoter</td>\n",
       "      <td>54</td>\n",
       "    </tr>\n",
       "  </tbody>\n",
       "</table>\n",
       "</div>"
      ],
      "text/plain": [
       "   G1E      type  ER4\n",
       "0  101      exon   84\n",
       "1  341    intron  307\n",
       "2   67  promoter   54"
      ]
     },
     "execution_count": 2,
     "metadata": {},
     "output_type": "execute_result"
    }
   ],
   "source": [
    "import numpy as np\n",
    "import pandas as pd\n",
    "import matplotlib.pyplot as plt\n",
    "\n",
    "# read counts into pandas dataframe\n",
    "G1E_counts = pd.read_csv(\"overlap_count_G1E.txt\", sep = \"\\s+\" , names = [\"ER4\", \"region_type\"] )\n",
    "ER4_counts = pd.read_csv(\"overlap_count_ER4.txt\", sep = \"\\s+\", names = [\"G1E\", \"region_type\"])\n",
    "\n",
    "#merge using pandas function\n",
    "counts = pd.merge(ER4_counts, G1E_counts, on = \"region_type\")\n",
    "counts"
   ]
  },
  {
   "cell_type": "markdown",
   "metadata": {},
   "source": [
    "The left panel should plot the number of CTCF binding sites in each type of region (exon, intron…) for each cell type. The right panel should plot the number of sites lost and gained during differentiation for each cell type."
   ]
  },
  {
   "cell_type": "code",
   "execution_count": 12,
   "metadata": {},
   "outputs": [
    {
     "data": {
      "text/plain": [
       "<matplotlib.legend.Legend at 0x7f831f6033c8>"
      ]
     },
     "execution_count": 12,
     "metadata": {},
     "output_type": "execute_result"
    },
    {
     "data": {
      "image/png": "[encoded data removed]",
      "text/plain": [
       "<Figure size 432x288 with 2 Axes>"
      ]
     },
     "metadata": {
      "needs_background": "light"
     },
     "output_type": "display_data"
    }
   ],
   "source": [
    "fig, ax = plt.subplots(ncols = 2)\n",
    "\n",
    "# left panel: number of CTCF binding sites in each region\n",
    "ax[0].bar(counts.index, counts[\"ER4\"], label = \"ER4\")\n",
    "ax[0].bar(counts.index, counts[\"G1E\"], label = \"G1E\", alpha=0.5)\n",
    "ax[0].set_title(\"CTCF Binding Sites by Region Type\")\n",
    "ax[0].set_xticks([0, 1, 2])\n",
    "ax[0].set_xticklabels([\"exon\", \"intron\", \"promoter\"])\n",
    "ax[0].legend()\n",
    "\n"
   ]
  },
  {
   "cell_type": "code",
   "execution_count": 17,
   "metadata": {},
   "outputs": [
    {
     "name": "stdout",
     "output_type": "stream",
     "text": [
      "[57, 124]\n"
     ]
    }
   ],
   "source": [
    "#use list to count differentiation sites\n",
    "diff=[]\n",
    "\n",
    "len_lost = len((open(\"lost_CTCF.bed\")).readlines(  ))\n",
    "len_gained = len((open(\"gained_CTCF.bed\")).readlines(  ))\n",
    "\n",
    "diff.append(len_lost)\n",
    "diff.append(len_gained)\n",
    "\n",
    "print(diff)"
   ]
  },
  {
   "cell_type": "code",
   "execution_count": 19,
   "metadata": {},
   "outputs": [
    {
     "data": {
      "text/plain": [
       "Text(0.5, 1.0, 'After Differentiation')"
      ]
     },
     "execution_count": 19,
     "metadata": {},
     "output_type": "execute_result"
    },
    {
     "data": {
      "image/png": "[encoded data removed]",
      "text/plain": [
       "<Figure size 432x288 with 2 Axes>"
      ]
     },
     "metadata": {
      "needs_background": "light"
     },
     "output_type": "display_data"
    }
   ],
   "source": [
    "#copy from above for left panel:\n",
    "fig, ax = plt.subplots(ncols = 2)\n",
    "ax[0].bar(counts.index, counts[\"ER4\"], label = \"ER4\")\n",
    "ax[0].bar(counts.index, counts[\"G1E\"], label = \"G1E\", alpha=0.5)\n",
    "ax[0].set_title(\"CTCF Binding Sites by Region Type\")\n",
    "ax[0].set_xticks([0, 1, 2])\n",
    "ax[0].set_xticklabels([\"exon\", \"intron\", \"promoter\"])\n",
    "ax[0].legend()\n",
    "\n",
    "# right panel\n",
    "ax[1].bar([\"lost\",\"gained\"],diff)\n",
    "ax[1].set_title(\"After Differentiation\")\n"
   ]
  },
  {
   "cell_type": "markdown",
   "metadata": {},
   "source": [
    "# Part 2: Motif Discovery"
   ]
  },
  {
   "cell_type": "markdown",
   "metadata": {},
   "source": [
    "Prepare meme suite:\n",
    "\n",
    "    conda install meme -y\n",
    "    \n",
    "    wget http://meme-suite.org/meme-software/Databases/motifs/motif_databases.12.19.tgz\n",
    "    \n",
    "    tar -xf motif_databases.12.19.tgz"
   ]
  },
  {
   "cell_type": "markdown",
   "metadata": {},
   "source": [
    "First, find the strongest 100 peaks based on the 9th column for lowest p values:\n",
    "\n",
    "    `sort -h -r -k 9 CTCF_ER4_peaks.narrowPeak | head-n 100 > strongest100_ER4.txt`\n",
    "\n",
    "Make a fasta file using chr19 reference out of the strongest peaks file:\n",
    "\n",
    "    `bedtools getfasta -fi chr19.fa -bed strongest100_ER4.txt > strongest100_ER4.fasta`\n",
    "\n",
    "Generate motif file with meme-chip:\n",
    "\n",
    "    `meme-chip  -meme-maxw 20 -oc meme_data strongest100_ER4.fasta`\n",
    "\n",
    "Scan against the JASPAR_CORE_2019 database using tomtom:\n",
    "\n",
    "    `tomtom meme_data/combined.meme motif_databases/JASPAR/JASPAR_CORE_2016.meme\n",
    "\n",
    "The image in the tomtom html file with the lowest p value was pushed to github\n"
   ]
  },
  {
   "cell_type": "code",
   "execution_count": null,
   "metadata": {},
   "outputs": [],
   "source": []
  }
 ],
 "metadata": {
  "kernelspec": {
   "display_name": "Python 3",
   "language": "python",
   "name": "python3"
  },
  "language_info": {
   "codemirror_mode": {
    "name": "ipython",
    "version": 3
   },
   "file_extension": ".py",
   "mimetype": "text/x-python",
   "name": "python",
   "nbconvert_exporter": "python",
   "pygments_lexer": "ipython3",
   "version": "3.6.10"
  }
 },
 "nbformat": 4,
 "nbformat_minor": 4
}
