{
 "cells": [
  {
   "cell_type": "markdown",
   "metadata": {},
   "source": [
    "# 1. BLAST search\n",
    "\n",
    "\n",
    "[done using NCBI BLAST]"
   ]
  },
  {
   "cell_type": "markdown",
   "metadata": {},
   "source": [
    "# 2. Multiple sequence alignment: amino acid sequence\n"
   ]
  },
  {
   "cell_type": "markdown",
   "metadata": {},
   "source": [
    "In command line (after installing mafft):\n",
    "\n",
    "$ `transeq -sequence seqdump.txt -outseq aa_seq.txt`\n",
    "\n",
    "$ `mafft aa_seq.txt > aa_aln.fa`"
   ]
  },
  {
   "cell_type": "code",
   "execution_count": 14,
   "metadata": {
    "scrolled": true
   },
   "outputs": [
    {
     "name": "stdout",
     "output_type": "stream",
     "text": [
      "Week3.ipynb             \u001b[31mfasta_iterator_class.py\u001b[m\u001b[m seqdump.txt\r\n",
      "\u001b[34m__pycache__\u001b[m\u001b[m             prot_aln.fa\r\n",
      "aaseq.txt               query.fa\r\n"
     ]
    }
   ],
   "source": [
    "! ls"
   ]
  },
  {
   "cell_type": "code",
   "execution_count": 15,
   "metadata": {
    "scrolled": false
   },
   "outputs": [
    {
     "name": "stdout",
     "output_type": "stream",
     "text": [
      ">NC_001563.2_1 West Nile virus lineage 2, complete genome\r\n",
      "------------------------------------------------------------\r\n",
      "----------------SSSPV----ADKLSSVCE---------------D----------\r\n",
      "QQLTQCELFLGTKISMSKK--------PGG---PGKNRAVNMLKRG-M-PRGLSLIGL--\r\n",
      "KR-----------------AMLSLIDGKGPIRFVLALLAFFRFTAIAPTRAVLDRWRGV-\r\n",
      "NKQ---------TAMK-------------HLLSFKKELGTLTSAINRRSTKQKKRGGTAG\r\n",
      "FTILLGLIACAGAVTLSNFQGKVMMTVNATDVTDVITIPTAAGKNLCIVRAMDVGYLCED\r\n",
      "TITYECPVLAAGNDPEDIDCWCTKSSVYVRYGRCTKTRHSRR----------------SR\r\n",
      "RSLT-----------VQTHGESTLANK------KGA-----------------WLDSTKA\r\n",
      "TRYLVKTESW-------------------------------ILRNPGYALVAAVIGWMLG\r\n"
     ]
    }
   ],
   "source": [
    "! head aa_aln.fa"
   ]
  },
  {
   "cell_type": "code",
   "execution_count": 16,
   "metadata": {},
   "outputs": [
    {
     "name": "stdout",
     "output_type": "stream",
     "text": [
      ">NC_001563.2_1 West Nile virus lineage 2, complete genome\r\n",
      "SSSPV*ADKLSSVCED*QQLTQCELFLGTKISMSKKPGGPGKNRAVNMLKRGMPRGLSLI\r\n",
      "GLKRAMLSLIDGKGPIRFVLALLAFFRFTAIAPTRAVLDRWRGVNKQTAMKHLLSFKKEL\r\n",
      "GTLTSAINRRSTKQKKRGGTAGFTILLGLIACAGAVTLSNFQGKVMMTVNATDVTDVITI\r\n",
      "PTAAGKNLCIVRAMDVGYLCEDTITYECPVLAAGNDPEDIDCWCTKSSVYVRYGRCTKTR\r\n",
      "HSRRSRRSLTVQTHGESTLANKKGAWLDSTKATRYLVKTESWILRNPGYALVAAVIGWML\r\n",
      "GSNTMQRVVFAILLLLVAPAYSFNCLGMSNRDFLEGVSGATWVDLVLEGDSCVTIMSKDK\r\n",
      "PTIDVKMMNMEAANLADVRSYCYLASVSDLSTRAACPTMGEAHNEKRADPAFVCKQGVVD\r\n",
      "RGWGNGCGLFGKGSIDTCAKFACTTKATGWIIQKENIKYEVAIFVHGPTTVESHGKIGAT\r\n",
      "QAGRFSITPSAPSYTLKLGEYGEVTVDCEPRSGIDTSAYYVMSVGEKSFLVHREWFMDLN\r\n"
     ]
    }
   ],
   "source": [
    "! head aa_seq.txt"
   ]
  },
  {
   "cell_type": "markdown",
   "metadata": {},
   "source": [
    "# 3. Converting back to nucleotides\n",
    "\n",
    "To be able to look at nucleotide mutations, we need to construct a nucleotide alignment from our original DNA sequences, guided by our protein alignment. (In other words, wherever there is a gap in the AA alignment, insert three gaps in the DNA sequence.)"
   ]
  },
  {
   "cell_type": "code",
   "execution_count": 72,
   "metadata": {},
   "outputs": [],
   "source": [
    "#dusting off the FASTAreader from bootcamp week (copied to this folder)\n",
    "\n",
    "import sys\n",
    "from fasta_iterator_class import FASTAReader\n",
    "\n",
    "dna_read = FASTAReader(open(\"seqdump.txt\"))\n",
    "prot_read = FASTAReader(open(\"aa_aln.fa\"))\n",
    "\n",
    "#assemble dictionary to match the DNA sequence with the protein sequence\n",
    "seq_dict = {}\n",
    "\n",
    "for i,j in zip(dna_read,prot_read):\n",
    "    seq_string = '' #start empty string for new DNA sequence\n",
    "    for a,b in enumerate(j[1]): #goes through the aa sequence\n",
    "        if b == '-': #if amino acid is missing...\n",
    "            seq_string += '---' #add three missing nucleotides to the DNA sequence\n",
    "        else:\n",
    "            seq_string += i[1][a:(a+3)] #otherwise add next three nucleotides\n",
    "    seq_dict[i[0]] = [i[1],j[1],seq_string] #build dictionary as {gene: [nucleotide, aa]}\n",
    "\n",
    "# pointless note to TAs: this part was supposed to be simple but it took me like 15 hours lol <upside-down-smily>\n"
   ]
  },
  {
   "cell_type": "code",
   "execution_count": 80,
   "metadata": {},
   "outputs": [
    {
     "name": "stdout",
     "output_type": "stream",
     "text": [
      "------------------------------------------------------------------------------------------------------------------------------------------------------------------------------------------------------------------------------------TTCTCTCTTTTATAG------------CGAGAAAAGAGAGATATCTCTCTCTCG---------------------------------------------CAG------------------------------GGTGTATAAAAAAAAAAAAACACCCCGCGGGGGGGCGCTCTGTGTGTCTCACAAAAT------------------------AAAAACACG---------GGTGTATATATGTGCGCCCCCCCCCCGCGCGCGCGGGGA---ATT---TGTGTCTCCCCTCTTTTGTGAGATATA------GGAGAC---------------------------------------------------TGAGAGAGTGTCTCTCTGTGAGATATTTTGTGAGACACGCGGGGGGGAGAAAAGAGGGGGGGTGTCTCCCCACAAAATATATACACGCGTGTTTTTTTCTCGCGTGTGTGTGTTTTGTGG---GCTCTCTCT---------------------------TTTTTTTTTTTC---------------------------------------AATATCTCGCGCGCTCTCTCCCCGCGAGACACTCTCTCGCGTGTGTGCGCGCGGGGTGTGTGCGCTCTGTGGGGAGACACACAGAGAGATATGTGGGGAGAGAGAGAGAGGGGCGCGCGTGTCTCACAAAATATATAAAAAAACACACAAAAAAACACACAGAGCGCGCGAGATATGTGAGAAAAGAGCGCACATATCTCTCTCTCTCTTTTGTGAGAGAGTGTTTTTTTCTCACAAAAGAGAGAAAAAAAGAGAGAAAACACTCTATAGAGGGGAGAAAACACCCCCCCTCTGTGAGACACCCCACAGAGTGTGTGCGCCCCACATATCTCACAAAACACCCCGCGCGCCCCGCGGGGAGAGAGCGCACACACACAAAAAAAAAACACACAAAAAAAA------------------------------------------------CAGAGCGCGCGGGGGGGC---------------------------------TTGTGCGCTCTTTTGTGGGGGGGCGCTCTGTGAGAT------------------TGTGTGTGC---------------------------------------------------CTCTCGCGAGAAAACACTCTTTTCTCCCCACAGAGGGGGGGCGCACAAAAA---------------------------------------------------------------------------------------------CACACTCTGTGAGACACGCGTGTGTGAGATATTTTATACACCCCACATATTTTCTCCCCACAAAACACACAGAGC------------------------------AAAAAAAACACCCCTCTGTGTGTGTGCGCACATATCTCGCGTGTGTGAGAGAGGGGGGGCGCTCTATATATG------------------TAGAGGGGA------TACACCCCTCTTTTTTTGTGTGTGTGAGAGAGGGGA---------ACTCTATATATCTCACACACTCTTTTATATATGTGAGAAAATATG------------------------------------------------CTGTGGGGAGAAAAAAATATGTGAGACACCCCCCCTCTGTGAGAAAAGAGAGACACACATATCTCGCGAGACACTCTGTGCGCTCTGTGGGGTGTGTGCGCACACACGCGAGAAAAAAATATCTCA---------------------------------------------------------TGGGGAGAA---AGAGATATGTGCGCACACACACAAAAAAAAAAAAACACTCTCTCGCGGGGCGCACATATTTTCTCCCCCCCGCGTGTCTCGCGAGAAAAGAGCGCACAGAGAGAAAAGAGGGGTGTCTCTCTCTCTCTGTGAGACACACAGAGTGTCTCCCCACAGAGAGACACACACACACATATGTGGGGAGAGAGAGAAAAAAAGAGTGTATACACACACACTCTGTGGGGCGCCCCACAAAACACACAAAAGAGAGAAAAAAAGAGGGGAGAGAGCGCTCTTTTGTGGGGTGTTTTGTGGGGAGACACACAGAGCGCACACACACAAAAAAAAAAGAGCGCCCCACACACGCGAGAGAGAGATATATATATCTCTCTGTGGGGTGTATAAAAAAAGAGAGACACACAGAGAGAAAATATCTCACATATGTGGGGAGATATATAC------------------AAAAAC---------CGGGGGGGC---------------------CCTCTCTCGCGTGTTTTGTGCGCACAG---------------------------------------------------------------------------------------------------------------------------------------------------------------------------CCTCTATATATTTTGTGCGCTCTC------------------------------------------------------------AGCGCTCTTTTCTCA---------------------------------------------------------------------------GACACTCTTTTCTCC------TGGGGAGAGAGGGGGGGAGAGAGTGTG------------------------------TACACACATATGTGGGGGGGTGTTTTG------------------------------------------------------------ACACAGAGCGCTCTGTGTGTGTGTGTGTGAGACACCCCACATATATAAAATATGTGTGTCTCACAAAAAAAAAAGAGAGACACA------------CCACAAAACACCCCACATATTTTGTGA---ATGTGTGTC---CAAAAAAAAAATATGTGAGATATGTGAGAAAACACACATATGTGGGGAGAAAAGAGCGCACAGAGCGCCCCACAAAATATCTCTCTT------------------------------------------------------------------------------------------------------AGTGTCTCA---AATATGTGAGAC---CTTTTGTGTGTCTCACACACCCCACAAAAGAGAGAGAGCGCCCCGCGCGCGCGTGTGTGTGTCTCCCCACAAAACACCCCACATATGTGGGGGGGTGTGTGAGAAAAGAGCGCCCCCCCACACACACAAAACACGCGAGAGAGAGAAAAAAAAAAGAGAGAGAGCGCTCTGTGAGATATCTCCCCCCCGCGCGCCCCTCTTTTCTCGCGTGTTTTTTTGTGCGCACAAAAGAGCGCACAAAAGAGGGGCGCGCGTGTTTTGTGTGTGTGGGGAGATATATAGAGAGAGAGGGGAGATATGTGGGGGGGGGGAGAAAAAAAC------GGAGATATGTGCGCGCGGGGAGACACTCTGTGTGTTTTTTTGTGGGGAGAA---------------------------CATATTTTGTGAGACACACACACACAT------------------------AGTGTTTTTTTG---------CTGTGTGTATACACACAAAACACCCCACAAAAAAAGAGCGCACAAAACACTCTGTGGGGTGTTTTGTGGGGAGATATCTCACATATCTCCCCACAGAGAGAAAAGAGGGGAGAAAAA------ACACATATCTCACAAAAGAGTGTATATATGTGAGAG------------------CCACATATATATATTTTTTTGTGTGTGTGCGCACATATGTGGGGCGCCCCCCCGCGAGACACGCGAGACACCCCGCGTGTTTTGTGAGAAAAT------------CATATGTGGGGCGCACAAAATATTTTATATATTTTCTCACAAAACACA------------------TAGAGGGGGGGGGGCGCCCCACACACCCCCCCACAGAGGGGCGCTCTGTGGGGAGAAAAGAGAGATATTTTC------AGCGCACATATATAAAACACTCTCTCCCCACATATCTCGCGGGGCGCGCGCGCCCCACATATCTCTCTTTTATACACACACACGCGCGCTCTATAAAAAAAGAGTGTTTTGTGGGGGGGTGTGTGAGAGAGTGTATATATGTGGGGTGTGTGAGAGAGGGGTGTTTTATACACGCGGGGTGTTTTGTGAGATATTTTGTGTGTGTGAGAGAGCGCCCCACACACGCGG---GTCTCACAGAGGGGAGAAAATATATAGAGAGACACACACACTCTATAGAGCGCGCGCGCCCCTCTATATATTTTATACACGCGTGTTTTATATATGTGTGTCTCACAGAGTGTTTTGTGGGGTGTGTGCGCGCGAGAAAAGAGTGTCTCCCCTCTTTTCTCCCCTCTGTGGGGTGTTTTCTCACACACCCCGCGAGAG---------------------TTTTTATATATGTGGGGAGATATCTCTCTGTGAGAA---------CTGTGCGCCCCACATATGTGGGGAGAG------CAGAGTGTGTGC---------------AAGAGCGCACAC------------------------GAGAGG------------------------------AACACACACACT------------------------------------------------------------------------------------------------------------TCTCTGTGTGTTTTGTGTGTGTGGGGCGCTCTCTCTCTATAGAGGGGGGGTGTCTCG---------------------------------------------------------------------------------------------------------------GATATTTTCTCC------TGTGTTTTGTGAGAAAATATTTTCTCTCTCTCACAAAAGAGCGCACAAAACACACACACTCTGTGTGTGTGAGAAAAGAGTGTTTTGTGAGAC---CATATCTCACAGAGGGGAGACACACATATCTCTCTGTGAGAAAAGAGTGTGTGTGTATAGAGGGGGGGTGTGTGAGAAAAGAGAGATATGTGGGGAGAGAGAGAAAAG---------TGCGCACAGAGCGCTCTGTGA------AGGGGGGGAGAA---------------CATATATATATGTGG---GAGAGTGTATATATGTGTGTTTTCTCACAAAAAAAAAAG---------GTTTTCTCACAA---------------CGCGCTCTGTGGGGGGGAGACACTCTCTCCCCCCCGCGCGCTCTG------------------------------------------------------------------GTGTGTGTTTTGTGGGGAGAAAACACTCTGTGCGCACAGAGTGTATACACACACACCCCGCGGGGAGAA---------------------------TCCCCCCCTCTGTGCGCACAAAAAAAGAGTGTGTGCGCCCCCCCACATATTTTTTTCTCTCTTTTCTCCCCGCGTGTATAGAGCGCTCTT------------------GAAAATATGTGAGACACCCCTCTCTCACACACACACACCCCTCTGTGTGTTTTGTGGGGAGAAAAGAGAGACACTCTGTGG---GTGTGAGACACACAGAGTGTGTGAGAAAATATCTCCCCACATATTTTTTTGTGTGTGTGTGTCTCTCTGTGTGTGTGGGGCGCCCCACACACGCGGGGCGCCCCACAAAACACTCTCTCGCGAGAAAAGAGGGGTGTTTTTTTTTTGTGAGATATTTTGTGAGAAAACACTCTCTCGCGAGAAAAC---CCCCCCCCCCCGCGTGTTTTTTTGTGGGGTGTGTGAGACACTCTC------------------------------------------------------------AGGGGAGAG---GAAAACACACAGAGCGCACAGAGAGATATA------------------ATCTCACACACT---TGGGGCGCACACACACAAAAAAATATCTCTCTG------------------------------------------GAAAAAAAGAGGGGCGCCCCTCTTTTTTTATACACTCTATACACCCCACACACACACACTCTCTCA---------------------------TCACAAAACACGCGAGACACTCTCTCGCGCGCACAGAGCGCTCTC---CTTTTGTGGGGA---AGAGATATATACACTCTGTGCGCTCTTTTGTGGGGGGGA------------------------------CAGAGTGTTTTGTGGGGAGAGAGGGGGGGGGGTGTTTTT------TCACACACCCCTCTCTCGCGGGGTGTGTGGGGGGGGGGAGAAAAAAAGAGCGCTCTATATATATACACACACACCCCACAAAAGAGTGTCTCTCTTTTTTTGTGGGGAGAGAGGGGAGAGAGCGCTCTTTTTTTTTTATAGAGAGATATCTCACACACTCTTTTTTTTTTTTTGTGGGGAGAGAGGGGGGGAGATATGTGTGTCTCCCCTCTGTGGGGAGATATCTCACACACACACACACAGAGGGGG------------------CTGTGGGGGGGAGAGAGCGCTCTC---CTTTTCTCTCTGTGTGTTTTGTGTGTGTGGGGAGATATGTGGGGGGGAGAAAATATC---------------------------------------------------TCACAAAATATTTTGTGCGCTCTATATATGTGAGACACGCGTGTTTTCTCCCCTCTTTTGTGCGCGCGGGGTGTTTTGTGGGGAGAGAGGGGA------------------------------------------CTTTTTTTCTCGCGGGGTGTCTCA---------------TCCCCACATATGTGCGCTCTG---GACACACACACA---------------------------------------------ATATATATATAGAGGGGCGCACAGAGGGGCGCACAAAAGAGAGAGAGCGCTCTCTCCCCGCGGGGTGTGTGCGCGCGGGGAGAAAAGAGTGTGTGGGGAGAGAGTGTGTGTGTTTTTTTATATATCTCCCCACACACACAAAACACGCGAGATATGTGTGTGTGGGGAGAAAAGAGCGCCCCTCTGTGGGGAGATATGTGGGGAGATATCTCGCGTGTTTTATACACACAAAAGAGTGTT---------TACACCCCCCCGCGGGGAGAGAGAGACACGCGCGCCCCACAC---CAGAGGGGGGGCGCCCCTCTATAGAGCGCACAAAAAAAAAAAAATATT---------------------------------------------------------------AAGAGGGGAGAGAGTGTCTCTCTGTGCGCGCGGGGCGCTCTTTTGTGCGCGCGTGTTTTCTCCCCGCGTGTTTTTTTCTCCCCACAGAGAGACACTCTTTTGTGAGAGAGCGCACACACCCCACAAAAAAATATGTGTGTGTGGGGGGGAGAAAAGAGCGCCCCACATATTTTATAAAAGAGGGGAGATATGTGAGAGAGTGTTTTGTGAGAAAACACACACACCCCCCCTCTGTGTGTTTTGTGAGAAAAAAAGAGAGAGAGAGAAAATATGTGGGGAGAGAGTGTCTCGCGAGACACTCTTTTGTGAGAGAGTGTGTGTGTCTCGCGTGTGTGGGGTGTGTGGGGAGAAAAAAAAAAAAACACACAGAGAGAAAATATGTGGGGGGGAGATATGTGTGTATACACACAAAAAAAGAGCGCACAGAGCGCACACACCCCACAAAAAAAAAACACGCGTGTTTTTTTGTGGGGCGCTCTGTGCGCCCCACACACC---CACACCCCGCGAGAAAAAAAAAAAAACACTCTGTGGGGAGAGAGAGATATGTGGGGGGGTGTTTTGTGGGGAGAAAAGAGGGGCGCTCTTTTGTGGGGGGGGGGCGCACAAAAG------------------------ATCTCTCTTTTTTTGTGCGCTCTCTCCCCACAGAGAGAGAGCGCTCTATAGAGCGCTCTATAAAACACACAAAACACACACACCCCTCTTTTTTTGTGTGTC------------------------------TCCCCTCTGTGAGAGAGAGACACTCTGTGAGAGAGGGGAGAAAATATG------------------------TGCGCCCCACAAAACACCCCGCGAGAGAGCGCACATATGTGGGGAGAAAACACACAGAGTGTATATATGTGGGGAGAGAGGGGT---------------------------------------------------------------------------------------------------------------------------------------AGGGGAGATATTTTCTCGCGGGGGGGAGAAAAAAACACGCGAGAAAACACACAC---CAAAACACGCGG---------------------------------------AAGAGAGATATCTCACATATATAGAGGGGAGAA---------CGCGCCCCGCGTGTCTCACAAAAGAGAGAAAACACACAAAACACACATATGTGG---------TGTGTGTGCGCACATATATAGAGTGTGTGAGAT------------------CATATATACACTCTGTGGGGAGATATATAG---------------------------------------AACACGCGAGACACACACACCCCT---------GAAAAGAGCGCTCTTTTGTGAGAGAGAGAGAGGGGGGGCGCGCGGGGTGTCTCCCCTCTGTGG---------------AAGAGTGTCTCACAAAAAAATATCTCACATATGTGCGCACACACCCCTCTGTGGGGC---------AGAGAAAAAAACACCCCCCCACACACACACACTCTCTCTCTGTGTGTGTGGGGGGGGGGTGTGTGAGATATGTGGGGAGAGAGTGTTTTCTCTCTGTGGGGAGAAAAAAAGAGTGTGTGAGATATCTCT---TTATATATCTCACATATATACACCCCCCCACATATCTCACACACCCCTCTTTTGTGGGGCGCACAGAGGGGAGACACCCCCCCACAGAGAGAAAAGAGCGCACAAAATATCTCACACACACAAAACACACAGAGGGGAGAG------------------------------------------AACACTCTCTCACAGAGAGAAAAC------------------------CCACATATGTGGGGGGGAGATATGTGAGAGAGGGGGGGGGGCGCGCGTGTGTGTGTCTCGCGAGAGAGAGATATTTTGTGAGACACT---TTTTTGTGAGACACTCTATATATTTTGTGCGCCCCCCCACAGAGGGGA------ACACAAAACACACAGAGTGTATAAAAC---CTATATATATAAAAGAGTGTGTGAGACACACAGAGTGTTTTG---GCGCGG---------------------------GGA------------------------GCGCGCGCGCGCGCACACACACAAAACACCCCACACACTCTGTGAGAGAGAGAGAGTGTGTGGGGGGGAGAAAAGAGCGCTCTCTCACATATCTCACACACACAGAGAGACACTCTGTGGGGTGTGTGCGCTCTGTGCGCACAGAGAGAA------GTTTTGTGCGCACACACCCCCCCT---------CCTCTCTCCCCACACACT---------------------TCC---------GACACTCTGTGAGAGAGAGAAAATATGTGGGGCGCTCTGTGTGTTTTGTGGGGTGTATATATGTGGGGAGAAAATATGTGG------------------TCGCGAGACACCCCTCTATACACGCGCGCGCGGGGCGCACAC------------CGAGAAAAAAAAAAGAGAGACACCCCCCCTCTCTCGCGTGTGTGCGCACAAAATATCTCGCGAGAGAGGGGGGGTGTGTGAGAAAATATGTGCGCACATATATACACACAAAACACGCGCGCCCCGCGAGACACACATATGTGAGATATTTTGTGAGATATCTCCCCTCTTTTTTTTTTCTCACAGAGTGTTTTGTGGGGGGGCGCC---CTTTTCTCTCTGTGGGGTGTCTCGCGTGTGTGTGTTTTCTCTCTTTTGTGGGGCGCCCCACACACCCCCCCACAGAGGGGAGAGAGGGGTGTCTCCCCTCTTTTCTCGCGCGCACAAAAGAGAGAGAGGGGTGTGTGGGGAGACACGCGGGGCGCCCCACAAAAGAGAGATATCTCACAGAGCGCACATATTTTCTCC---------------------------------GCTCTTTTGTGCGCACACACTCTCTCCCCTCTATAGAGTGTCTCCCCTCTATAGAGT------------TTGTGGGGGGGGGGGGGTGTATATATTTTATACACGCGTGTATACACACACACTCTGTGAGATATGTGTGTCTCTCTTTTGTGCGCGCGGGGTGTATACACGCGTGTCTCA---------TCTCTCTCGCGTGTCTCGCGGGGCGCGCGCGCCCCGCGCGCGCGTGTTTTTTTGTGCGCTCTGTGAGAAAAGAGCGCACAAAAAAACACT------------GGA---AGGGGAGAGAGA---ACGCGTGTCTCGCGTGTGTGCGCACACACTCTTTTGTGGGGCGCACACACTCTT---------------GCTCTATACACACATATTTTCTCACAAAAGAGAGATATTTTCTCACAAAACACC---------------------------------------------------------------------------------AAAAAGAGCGCACAAAAGAGGGGTGTGTGGGGAGACACCCCACAAAACACCCCA---------------GAGAGTGTATATATTTTTTTTTTGTGC---------------------CTTTTGTGCGCACAGAGCGCCCCGCGCGCTCTTTTTTTCTCTCTTTTCTCCCCACAAAAAAATATGTGGGGCGCTCTTTTATACACTCTATATATGTGAGACACGCGCGCCCCACAAAAGAGAGAAAATATGTGTGTTTTCTCTCTGTGTGTC---------------------------------------------------------------TTGTGAGAAAACACTCTCTCTCTCTCTCTC---CTCTCCCCGCGTGTTTTGTGCGCGCGTGTGTGGGGAGATATGTGAGATATTTTCTCTCTCTCACAGAGAGAGAGCGCCCCACATATATAAAAGAGCGCTCTTTTCTCACACACCCCACAAAACACACACACTCTTTTCTCACAAAAAAATATGTGTGTGTGGGGTGTGTGGGGTGTGTGC---------GCTCTGTGCGCTCTGTGGGGCGCCCCCCCTCTTTTTTTTTTGTGAGACACACACACCCCTCTGTGGGGAGATATTTTGTGAGAAAAAAATATGTGCGCTCTTTTATAAAAAAACACCCCTCTTTTGTGAGATATGTGT---TGTGTATACACACAGAGAGAAAATATTTTTTTTTTGTGCGCTCTATACACTCTCTCACATATGTGGGGTGTTTTGTGGGGAGAGAGTGTTTTGTGGGGAGAAAAG---------------------------------------------------------------------------------------------------------------------------------------------------------------------TCTCTGTGCGCCCCTCTATAGAGCGCGCGCGCTCTG---GGCGCGCGTGTCTCTCTATACACACAGAGGGGAGAGAGTGTGTGTGTTTTCTCACAAAATATCTCCCCACAAAATATGTGA---------------------------------------------------TAAAATATGTGGGGCGCTCTTTTGTGCGCGCGAGACACCCCCCCCCCACAAAACACCCCGCGCGCACAAAAGAGC------------------------------CCTCTGTGCGCTCTATACACACAGAGAGAAAAGAGTGTGTGA------------ACTCTGTGC---CAGAGTGTTTTGTGG---------CTTTTA------------------TGCGCCCCACAT------------------------------------------------------------ACTCTTTTGTGAGACACACAT---------------------------------------------------------------ATGTGAGACACCCCACATATCTCGCGCGCCCCGCGGGGAGACACTCTTTTATATATGTGT---------------------------------------GTCTCACATATCTCTCTCTCTCTGTGGGGAGAAAAAAAGAGTGTCTCACAAAACACACAGAGAGACACACATATGTGTGTGTGGGGAGATATTTTGTGAGAGAGAGAGAGGGGAGACACACAGAGCGCTCTGTGA------------------------TTGTGGGGGGGAGAGAGA------------------TGCGCTCTGTGAGAGAGAGATATCTCACACACACAGAGGGGCGCTCTCTCTCTATAGAGCGCGCGAGAAAAAAAGAGAGAGAGTGTATAGAGAGACACGCGTGTTTTATAGAGGGGCGCTCTGTGGGGAGATATGTGAGATATGTGAGATATGTGGGGAGAAAAAAATATTTTTTTTTTCTCACAAAACACTCTGTGAGATATGTGAGAAAATATGTGAGACACCCCCCCCCCGCGGGGGGGG---GCGCGCGCCCCACATATGTGGGGAGAAAAA---AATATTTTTTTGTGGGGAGATATGTGCGCT------------------ATGTGGGGCGCCCCTCTGTGCGCCCCTCTGTGGGGCGCACAAAATATA---------------------CTATACACACAC------------------TGGGGGGGCGCACAAAATATTTTCTCTCTCTCCCCCCCCCCTCTCTCACAGAGT---TCACATATTTTGTGGGGAGATATTTTCTCTCTGTGG------------------------CTTTTCTCACAGAGTGTATACACACACACACAAAAAAAGAGAGAGAGAGAGAGGGGAGAGAGGGGTGTGTGTGTTTTCTCTCTTTTTTTGTGGGGGGGAGACACACACACACACACCCCACATATCTCACACACCCCCCCACAAAAGAGGGGAGAGAGTGTATACACACAAAAG------AAGAGGGGG------------------------------------ACTCTGTGGGGCGCGCGTGTTTTTTTATACACACAGAGAGAAAATATCTCACATATGTGAGACACTCTCTCGCGAGAG---------------TGCGCTCTTTTG---------------------TACACCCCACAGAGGGGC---------------------------------------------------------------------------------------------TCCCCACACACACAC---CACACTCTATAT---------GCACACACACACACCCCACACACTCTA---AAG---GGGGGAGAG---------------------------------------------TGGGGT---------------------------------------GGAGATATCTCCCCC------TACACTCTGTGGGGGGGGGGGGGAGAGAGCGCGCGTGTGTGAGAAAAA------------------------------------------------CTATATATGTGGGGAGAGAGGGGG---GCCCCACATATGTGGGGAGAAAAAAACACTCTC------------------------AAAAATATGTGGGGAGAAAAT---------------------------------------------------------------------------------------------------------CCACAGAGGGGGGGAGAAAAAAAAAAA------------------------------------------CCACAGAGAGACACCCCACAAAAGAGCGCCCCCCCGCGGGGAGAGAGTGTG------TTTTTATAAAAGAGAGACACACACACCCCACAGAGAGAAAAG------------------------------------GGCGCACAGAGT---TTA------------------------------------------CCACACACC------------------------------------GTTTTCTCC------------------------------------------AAAAAAAAAAAT------------AGAGATATGTGT------------------------------------------------GGAGAA---------------------------------------------------TAA---ATGTGGGGTGTT---------------ACACAT------------------------------------------------------------------------------------------------------------------------------------------------------------------------------------------------------------------------------------------------------------------TGTGTC------------------------------------------------------------------------------------------------------------------------------------------------------------------------------------------------------------------------------------------------------------------------------------------------------------------------------------------------------------------------------------------------------GGCGCCCCCCCT---TTATAGAGAGAGAGG---------CTTTTC------------------------------------------------------------------------GGTGTG------------------------------------ACACAGAGTGTG---------------------------GAT---TCGCGTGTT------GAT---------------------------------CAT---------------------CCTCTCTCA------------------------GGCGCTCTGTGAGATATGTGT------CTCTCCCCA------CACACACAGAGA---------------------------------------CAAAAC---------------------------------------------------GAAAAG---------------------TTCTCACAC---------GAC------CCACAGAGC------------------ATC---CGCGCACAGAGCGCCCCA---AGAGAGAGGGGAGATATATAC------------------CAAAACACCCCA---AAG------------------AAT---------GGGGGCGCG------------------------------------GATATTTTTTTTTTCTCA------------------------------------------------------------------------------CTGTGA---------------------------------AGA------------------------------CTCTCCCCT---------------------------------------------AAAAACACA---------------------------CAG---GAC------------------------------------------------------------------------AATATGTGG---GAT------------------GAGAGTGTATATATG------------------------------------------------------------------------------------------TGTGTGTGAGAA---AAAAATATGTGGGGGGGAGAA------------GAAAAAAATATTTTG---GCCCCCCCTCTCTCTCTGTGT---------------------------------------------------------------------------TATATCTCCCCACAGAGCGCTCTGTGAGAAAACACACAGAGA---AAAAAGAGT---------------------GAGAGAGACACACAGAGAGAGAGTGTA------------------------------GCACAAAAGAGAGAAAACACGCGAGATATG---------------------GATATTTTTTTTTTGTGT---------------------------------------------------------------------------------GGAGAGAGCGCCCCA------------------------------------------------------------------------------------------\n"
     ]
    }
   ],
   "source": [
    "#dusting off the FASTAreader from bootcamp week (copied to this folder)\n",
    "\n",
    "import sys\n",
    "from fasta_iterator_class import FASTAReader\n",
    "\n",
    "dna_read = FASTAReader(open(\"seqdump.txt\"))\n",
    "prot_read = FASTAReader(open(\"aa_aln.fa\"))\n",
    "\n",
    "#make list for new DNA sequence\n",
    "aligned_dna = []\n",
    "\n",
    "for i,j in zip(dna_read,prot_read):\n",
    "    seq_string = '' #start empty string for new DNA sequence\n",
    "    for a,b in enumerate(j[1]): #goes through the aa sequence\n",
    "        if b == '-': #if amino acid is missing...\n",
    "            seq_string += '---' #add three missing nucleotides to the DNA sequence\n",
    "        else:\n",
    "            seq_string += i[1][a:(a+3)] #otherwise add next three nucleotides\n",
    "    aligned_dna.append(seq_string) #build new nucleotide sequences\n",
    "\n",
    "# pointless note to TAs: this part was supposed to be simple but it took me like 15 hours lol <upside-down-smily>\n"
   ]
  },
  {
   "cell_type": "markdown",
   "metadata": {},
   "source": [
    "\n",
    "\n",
    "# 4. Looking for selection\n",
    "For each codon in your query sequence, count the number of synonymous (dS) and non-synonymous (dN) changes that occurred in the sequences returned by the BLAST search. (This is why we needed to convert the amino acid alignments back to nucleotides.) If multiple nucleotides have changed in a codon, count this as a single change. This requires you to determine (1) whether the bases in each codon match across sequences, and (2) whether the amino acid encoded by that codon also matches.\n",
    "\n",
    "We want to test whether the ratio of non-synonymous to synonymous changes is significantly different from what we expect. The simplest way to do this (for a large sample) is to test the null hypothesis dN = dS. D = dN - dS is approximately normal, so a Z test is sufficient. Only include codons that are present in the query sequence and have at least one mutation.\n",
    "\n",
    "Finally, plot the the codon position by the log2 ratio of dN/dS. (Don’t plot ratios where one of the values is zero.) Use color to indicate which values have a p-value less than 0.05. Don’t worry about multiple testing correction for this.\n",
    "\n",
    "HINT: The null hypothesis is that there is no selection, i.e. D_0 = 0.\n",
    "\n",
    "HINT: Estimate the standard deviation from all the values of D you calculate.\n",
    "\n",
    "HINT: You can get distribution values from scipy.stats\n",
    "\n",
    "HINT: So you don’t need to type it out by hand…\n",
    "\n",
    "`codontable = {\n",
    "'ATA':'I', 'ATC':'I', 'ATT':'I', 'ATG':'M',\n",
    "'ACA':'T', 'ACC':'T', 'ACG':'T', 'ACT':'T',\n",
    "'AAC':'N', 'AAT':'N', 'AAA':'K', 'AAG':'K',\n",
    "'AGC':'S', 'AGT':'S', 'AGA':'R', 'AGG':'R',\n",
    "'CTA':'L', 'CTC':'L', 'CTG':'L', 'CTT':'L',\n",
    "'CCA':'P', 'CCC':'P', 'CCG':'P', 'CCT':'P',\n",
    "'CAC':'H', 'CAT':'H', 'CAA':'Q', 'CAG':'Q',\n",
    "'CGA':'R', 'CGC':'R', 'CGG':'R', 'CGT':'R',\n",
    "'GTA':'V', 'GTC':'V', 'GTG':'V', 'GTT':'V',\n",
    "'GCA':'A', 'GCC':'A', 'GCG':'A', 'GCT':'A',\n",
    "'GAC':'D', 'GAT':'D', 'GAA':'E', 'GAG':'E',\n",
    "'GGA':'G', 'GGC':'G', 'GGG':'G', 'GGT':'G',\n",
    "'TCA':'S', 'TCC':'S', 'TCG':'S', 'TCT':'S',\n",
    "'TTC':'F', 'TTT':'F', 'TTA':'L', 'TTG':'L',\n",
    "'TAC':'Y', 'TAT':'Y', 'TAA':'_', 'TAG':'_',\n",
    "'TGC':'C', 'TGT':'C', 'TGA':'_', 'TGG':'W'\n",
    "}`\n",
    "Submit\n",
    "Plot of dN/dS values, as described above\n",
    "Script used to generate the nucleotide sequences\n",
    "Script used to calculate dN, dS, and plot scores\n",
    "All results should be pushed to your qbb2020-answers repo in a folder called week4."
   ]
  },
  {
   "cell_type": "code",
   "execution_count": 74,
   "metadata": {},
   "outputs": [],
   "source": [
    "import pandas as pd\n",
    "import numpy as np\n",
    "import matplotlib.pyplot as plt\n",
    "\n",
    "codontable = {\n",
    "'ATA':'I', 'ATC':'I', 'ATT':'I', 'ATG':'M',\n",
    "'ACA':'T', 'ACC':'T', 'ACG':'T', 'ACT':'T',\n",
    "'AAC':'N', 'AAT':'N', 'AAA':'K', 'AAG':'K',\n",
    "'AGC':'S', 'AGT':'S', 'AGA':'R', 'AGG':'R',\n",
    "'CTA':'L', 'CTC':'L', 'CTG':'L', 'CTT':'L',\n",
    "'CCA':'P', 'CCC':'P', 'CCG':'P', 'CCT':'P',\n",
    "'CAC':'H', 'CAT':'H', 'CAA':'Q', 'CAG':'Q',\n",
    "'CGA':'R', 'CGC':'R', 'CGG':'R', 'CGT':'R',\n",
    "'GTA':'V', 'GTC':'V', 'GTG':'V', 'GTT':'V',\n",
    "'GCA':'A', 'GCC':'A', 'GCG':'A', 'GCT':'A',\n",
    "'GAC':'D', 'GAT':'D', 'GAA':'E', 'GAG':'E',\n",
    "'GGA':'G', 'GGC':'G', 'GGG':'G', 'GGT':'G',\n",
    "'TCA':'S', 'TCC':'S', 'TCG':'S', 'TCT':'S',\n",
    "'TTC':'F', 'TTT':'F', 'TTA':'L', 'TTG':'L',\n",
    "'TAC':'Y', 'TAT':'Y', 'TAA':'_', 'TAG':'_',\n",
    "'TGC':'C', 'TGT':'C', 'TGA':'_', 'TGG':'W'\n",
    "}"
   ]
  },
  {
   "cell_type": "code",
   "execution_count": 110,
   "metadata": {},
   "outputs": [
    {
     "name": "stderr",
     "output_type": "stream",
     "text": [
      "IOPub data rate exceeded.\n",
      "The notebook server will temporarily stop sending output\n",
      "to the client in order to avoid crashing it.\n",
      "To change this limit, set the config variable\n",
      "`--NotebookApp.iopub_data_rate_limit`.\n",
      "\n",
      "Current values:\n",
      "NotebookApp.iopub_data_rate_limit=1000000.0 (bytes/sec)\n",
      "NotebookApp.rate_limit_window=3.0 (secs)\n",
      "\n"
     ]
    }
   ],
   "source": [
    "\n",
    "dumcount = 0 #this is because jupyter won't let me print everything at once\n",
    "\n",
    "for i in aligned_dna:\n",
    "    dN_list = [] \n",
    "    dS_list = []\n",
    "    codon_list = []\n",
    "    while dumcount < 3:\n",
    "        for n in enumerate(i): #make codons out of the whole string\n",
    "            codon = i[n[0]*3:(n[0]*3+3)]\n",
    "            if codon == '---': #mind the gaps\n",
    "                continue\n",
    "            else:\n",
    "                codon_list.append(codon)\n",
    "                print(codon_list)\n",
    "            dumcount += 1"
   ]
  },
  {
   "cell_type": "code",
   "execution_count": null,
   "metadata": {},
   "outputs": [],
   "source": []
  }
 ],
 "metadata": {
  "kernelspec": {
   "display_name": "Python 3",
   "language": "python",
   "name": "python3"
  },
  "language_info": {
   "codemirror_mode": {
    "name": "ipython",
    "version": 3
   },
   "file_extension": ".py",
   "mimetype": "text/x-python",
   "name": "python",
   "nbconvert_exporter": "python",
   "pygments_lexer": "ipython3",
   "version": "3.6.10"
  }
 },
 "nbformat": 4,
 "nbformat_minor": 4
}
