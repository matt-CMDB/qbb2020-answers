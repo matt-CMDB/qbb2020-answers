{
 "cells": [
  {
   "cell_type": "markdown",
   "metadata": {},
   "source": [
    "# Question 1: Number of Alignments"
   ]
  },
  {
   "cell_type": "markdown",
   "metadata": {},
   "source": [
    "Setting up:"
   ]
  },
  {
   "cell_type": "code",
   "execution_count": 1,
   "metadata": {},
   "outputs": [],
   "source": [
    "import numpy\n",
    "import sys\n",
    "sam_file = open('debugged.sam')\n"
   ]
  },
  {
   "cell_type": "markdown",
   "metadata": {},
   "source": [
    "Counting alignments:"
   ]
  },
  {
   "cell_type": "code",
   "execution_count": 2,
   "metadata": {},
   "outputs": [
    {
     "name": "stdout",
     "output_type": "stream",
     "text": [
      "1000.0\n"
     ]
    }
   ],
   "source": [
    "num_align = 0.0\n",
    "for line in sam_file:\n",
    "    num_align += 1 # each alignment takes up one line of the file\n",
    "print (num_align)"
   ]
  },
  {
   "cell_type": "markdown",
   "metadata": {},
   "source": [
    "# Question 2: Matching Alignments\n",
    "Count number of alignments that match perfectly to the genome\n",
    "HINT: This is encoded in one of the sam format's optional fields.v"
   ]
  },
  {
   "cell_type": "code",
   "execution_count": 3,
   "metadata": {},
   "outputs": [
    {
     "name": "stdout",
     "output_type": "stream",
     "text": [
      "825\n"
     ]
    }
   ],
   "source": [
    "sam_file = open('debugged.sam')\n",
    "\n",
    "sam_list = sam_file.read()\n",
    "match = sam_list.count(\"40M\") # signals that each of the 40 seqs per one alignment match\n",
    "print(match)"
   ]
  },
  {
   "cell_type": "markdown",
   "metadata": {},
   "source": [
    "# Question 3: Chromosomes\n"
   ]
  },
  {
   "cell_type": "markdown",
   "metadata": {},
   "source": [
    "Print the chromosome location of the first 10 alignment sequences"
   ]
  },
  {
   "cell_type": "code",
   "execution_count": 4,
   "metadata": {},
   "outputs": [
    {
     "name": "stdout",
     "output_type": "stream",
     "text": [
      "2L\n",
      "2L\n",
      "2L\n",
      "2L\n",
      "2L\n",
      "2L\n",
      "2L\n",
      "2L\n",
      "2L\n",
      "2L\n",
      "2L\n"
     ]
    }
   ],
   "source": [
    "sam_file = open('debugged.sam')\n",
    "count = 0\n",
    "for line in sam_file:\n",
    "    while count < 11:\n",
    "        field = line.split()\n",
    "        print(str(field[2]))\n",
    "        count += 1"
   ]
  },
  {
   "cell_type": "markdown",
   "metadata": {},
   "source": [
    "# Question 4: MAPQ average"
   ]
  },
  {
   "cell_type": "code",
   "execution_count": 5,
   "metadata": {},
   "outputs": [
    {
     "name": "stdout",
     "output_type": "stream",
     "text": [
      "59.289\n"
     ]
    }
   ],
   "source": [
    "sam_file = open('debugged.sam')\n",
    "mapq_sum = 0.0\n",
    "for line in sam_file:\n",
    "    fields = line.rstrip('\\n\\r').split()    \n",
    "    mapq_sum += (float(fields[4]))\n",
    "mapq_mean = (mapq_sum / 1000.0) #known value from question 1\n",
    "print(mapq_mean)"
   ]
  },
  {
   "cell_type": "markdown",
   "metadata": {},
   "source": [
    "# Question 5: Count Reads"
   ]
  },
  {
   "cell_type": "markdown",
   "metadata": {},
   "source": [
    "Count number of reads that start their alignment on chromosome 2L between base 10000 and 20000 (inclusive)"
   ]
  },
  {
   "cell_type": "code",
   "execution_count": 6,
   "metadata": {},
   "outputs": [
    {
     "name": "stdout",
     "output_type": "stream",
     "text": [
      "985.0\n"
     ]
    }
   ],
   "source": [
    "sam_file = open('debugged.sam')\n",
    "count = 0.0\n",
    "for line in sam_file:\n",
    "    fields = line.rstrip('\\n\\r').split()\n",
    "    if fields[2] == \"2L\":\n",
    "        if int(fields[3]) > 9999:\n",
    "            if int(fields[3]) < 20001:\n",
    "                count += 1\n",
    "print(count)"
   ]
  }
 ],
 "metadata": {
  "kernelspec": {
   "display_name": "Python 3",
   "language": "python",
   "name": "python3"
  },
  "language_info": {
   "codemirror_mode": {
    "name": "ipython",
    "version": 3
   },
   "file_extension": ".py",
   "mimetype": "text/x-python",
   "name": "python",
   "nbconvert_exporter": "python",
   "pygments_lexer": "ipython3",
   "version": "3.6.10"
  }
 },
 "nbformat": 4,
 "nbformat_minor": 4
}
