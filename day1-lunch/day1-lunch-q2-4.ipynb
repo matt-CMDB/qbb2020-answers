{
 "cells": [
  {
   "cell_type": "markdown",
   "metadata": {},
   "source": [
    "# Import data"
   ]
  },
  {
   "cell_type": "code",
   "execution_count": 2,
   "metadata": {},
   "outputs": [],
   "source": [
    "import numpy as np\n",
    "import pandas as pd\n",
    "import matplotlib.pyplot as plt"
   ]
  },
  {
   "cell_type": "markdown",
   "metadata": {},
   "source": [
    "# Question 2: K4 Distribution Plot "
   ]
  },
  {
   "cell_type": "markdown",
   "metadata": {},
   "source": [
    "Tidy up the plot of K4 chromosome distributions so that it is easier to understand. This includes but is not limited to the following.\n",
    "\n",
    "- Plot chromosomes in order\n",
    "- Add a title\n",
    "- Add an x-axis label\n",
    "- Add a y-axis label"
   ]
  },
  {
   "cell_type": "code",
   "execution_count": 4,
   "metadata": {
    "scrolled": true
   },
   "outputs": [
    {
     "data": {
      "text/html": [
       "<div>\n",
       "<style scoped>\n",
       "    .dataframe tbody tr th:only-of-type {\n",
       "        vertical-align: middle;\n",
       "    }\n",
       "\n",
       "    .dataframe tbody tr th {\n",
       "        vertical-align: top;\n",
       "    }\n",
       "\n",
       "    .dataframe thead th {\n",
       "        text-align: right;\n",
       "    }\n",
       "</style>\n",
       "<table border=\"1\" class=\"dataframe\">\n",
       "  <thead>\n",
       "    <tr style=\"text-align: right;\">\n",
       "      <th></th>\n",
       "      <th>3L</th>\n",
       "      <th>15823270</th>\n",
       "      <th>15830715</th>\n",
       "    </tr>\n",
       "  </thead>\n",
       "  <tbody>\n",
       "    <tr>\n",
       "      <th>0</th>\n",
       "      <td>2R</td>\n",
       "      <td>11451787</td>\n",
       "      <td>11459612</td>\n",
       "    </tr>\n",
       "    <tr>\n",
       "      <th>1</th>\n",
       "      <td>3R</td>\n",
       "      <td>21665759</td>\n",
       "      <td>21673392</td>\n",
       "    </tr>\n",
       "    <tr>\n",
       "      <th>2</th>\n",
       "      <td>2R</td>\n",
       "      <td>20324929</td>\n",
       "      <td>20331038</td>\n",
       "    </tr>\n",
       "    <tr>\n",
       "      <th>3</th>\n",
       "      <td>3R</td>\n",
       "      <td>19859679</td>\n",
       "      <td>19864278</td>\n",
       "    </tr>\n",
       "    <tr>\n",
       "      <th>4</th>\n",
       "      <td>X</td>\n",
       "      <td>16780987</td>\n",
       "      <td>16791625</td>\n",
       "    </tr>\n",
       "    <tr>\n",
       "      <th>...</th>\n",
       "      <td>...</td>\n",
       "      <td>...</td>\n",
       "      <td>...</td>\n",
       "    </tr>\n",
       "    <tr>\n",
       "      <th>3824</th>\n",
       "      <td>3R</td>\n",
       "      <td>565835</td>\n",
       "      <td>566082</td>\n",
       "    </tr>\n",
       "    <tr>\n",
       "      <th>3825</th>\n",
       "      <td>2L</td>\n",
       "      <td>10439373</td>\n",
       "      <td>10442085</td>\n",
       "    </tr>\n",
       "    <tr>\n",
       "      <th>3826</th>\n",
       "      <td>3R</td>\n",
       "      <td>4477321</td>\n",
       "      <td>4479529</td>\n",
       "    </tr>\n",
       "    <tr>\n",
       "      <th>3827</th>\n",
       "      <td>3L</td>\n",
       "      <td>711347</td>\n",
       "      <td>711871</td>\n",
       "    </tr>\n",
       "    <tr>\n",
       "      <th>3828</th>\n",
       "      <td>2L</td>\n",
       "      <td>6792695</td>\n",
       "      <td>6795077</td>\n",
       "    </tr>\n",
       "  </tbody>\n",
       "</table>\n",
       "<p>3829 rows × 3 columns</p>\n",
       "</div>"
      ],
      "text/plain": [
       "      3L  15823270  15830715\n",
       "0     2R  11451787  11459612\n",
       "1     3R  21665759  21673392\n",
       "2     2R  20324929  20331038\n",
       "3     3R  19859679  19864278\n",
       "4      X  16780987  16791625\n",
       "...   ..       ...       ...\n",
       "3824  3R    565835    566082\n",
       "3825  2L  10439373  10442085\n",
       "3826  3R   4477321   4479529\n",
       "3827  3L    711347    711871\n",
       "3828  2L   6792695   6795077\n",
       "\n",
       "[3829 rows x 3 columns]"
      ]
     },
     "execution_count": 4,
     "metadata": {},
     "output_type": "execute_result"
    }
   ],
   "source": [
    "# use pandas to read file:\n",
    "\n",
    "k4_plot = pd.read_table(\"../../qbb2020/data/K4me3.bed\")\n",
    "k4_plot\n"
   ]
  },
  {
   "cell_type": "code",
   "execution_count": 8,
   "metadata": {
    "scrolled": true
   },
   "outputs": [
    {
     "data": {
      "text/html": [
       "<div>\n",
       "<style scoped>\n",
       "    .dataframe tbody tr th:only-of-type {\n",
       "        vertical-align: middle;\n",
       "    }\n",
       "\n",
       "    .dataframe tbody tr th {\n",
       "        vertical-align: top;\n",
       "    }\n",
       "\n",
       "    .dataframe thead th {\n",
       "        text-align: right;\n",
       "    }\n",
       "</style>\n",
       "<table border=\"1\" class=\"dataframe\">\n",
       "  <thead>\n",
       "    <tr style=\"text-align: right;\">\n",
       "      <th></th>\n",
       "      <th>chr</th>\n",
       "      <th>start</th>\n",
       "      <th>end</th>\n",
       "    </tr>\n",
       "  </thead>\n",
       "  <tbody>\n",
       "    <tr>\n",
       "      <th>3829</th>\n",
       "      <td>2L</td>\n",
       "      <td>6792695</td>\n",
       "      <td>6795077</td>\n",
       "    </tr>\n",
       "    <tr>\n",
       "      <th>1005</th>\n",
       "      <td>2L</td>\n",
       "      <td>5070937</td>\n",
       "      <td>5072149</td>\n",
       "    </tr>\n",
       "    <tr>\n",
       "      <th>2762</th>\n",
       "      <td>2L</td>\n",
       "      <td>3812694</td>\n",
       "      <td>3813482</td>\n",
       "    </tr>\n",
       "    <tr>\n",
       "      <th>1008</th>\n",
       "      <td>2L</td>\n",
       "      <td>4976193</td>\n",
       "      <td>4977919</td>\n",
       "    </tr>\n",
       "    <tr>\n",
       "      <th>2748</th>\n",
       "      <td>2L</td>\n",
       "      <td>4882160</td>\n",
       "      <td>4884131</td>\n",
       "    </tr>\n",
       "    <tr>\n",
       "      <th>...</th>\n",
       "      <td>...</td>\n",
       "      <td>...</td>\n",
       "      <td>...</td>\n",
       "    </tr>\n",
       "    <tr>\n",
       "      <th>2272</th>\n",
       "      <td>X</td>\n",
       "      <td>8119818</td>\n",
       "      <td>8121252</td>\n",
       "    </tr>\n",
       "    <tr>\n",
       "      <th>1848</th>\n",
       "      <td>X</td>\n",
       "      <td>18648290</td>\n",
       "      <td>18648444</td>\n",
       "    </tr>\n",
       "    <tr>\n",
       "      <th>3737</th>\n",
       "      <td>Y</td>\n",
       "      <td>2267379</td>\n",
       "      <td>2267733</td>\n",
       "    </tr>\n",
       "    <tr>\n",
       "      <th>3583</th>\n",
       "      <td>Y</td>\n",
       "      <td>2623651</td>\n",
       "      <td>2624197</td>\n",
       "    </tr>\n",
       "    <tr>\n",
       "      <th>3738</th>\n",
       "      <td>Y_CP007111v1_random</td>\n",
       "      <td>11542</td>\n",
       "      <td>11873</td>\n",
       "    </tr>\n",
       "  </tbody>\n",
       "</table>\n",
       "<p>3830 rows × 3 columns</p>\n",
       "</div>"
      ],
      "text/plain": [
       "                      chr     start       end\n",
       "3829                   2L   6792695   6795077\n",
       "1005                   2L   5070937   5072149\n",
       "2762                   2L   3812694   3813482\n",
       "1008                   2L   4976193   4977919\n",
       "2748                   2L   4882160   4884131\n",
       "...                   ...       ...       ...\n",
       "2272                    X   8119818   8121252\n",
       "1848                    X  18648290  18648444\n",
       "3737                    Y   2267379   2267733\n",
       "3583                    Y   2623651   2624197\n",
       "3738  Y_CP007111v1_random     11542     11873\n",
       "\n",
       "[3830 rows x 3 columns]"
      ]
     },
     "execution_count": 8,
     "metadata": {},
     "output_type": "execute_result"
    }
   ],
   "source": [
    "# arrange by chromosome:\n",
    "columns = [\"chr\", \"start\", \"end\"]\n",
    "k4_plot = pd.read_table( \"../../qbb2020/data/K4me3.bed\", names=columns)\n",
    "k4_plot = k4_plot.sort_values(by=\"chr\")\n",
    "k4_plot"
   ]
  },
  {
   "cell_type": "code",
   "execution_count": 16,
   "metadata": {
    "scrolled": true
   },
   "outputs": [
    {
     "data": {
      "image/png": "[encoded data removed]",
      "text/plain": [
       "<Figure size 432x288 with 1 Axes>"
      ]
     },
     "metadata": {
      "needs_background": "light"
     },
     "output_type": "display_data"
    }
   ],
   "source": [
    "# add title, labels:\n",
    "fig, ax = plt.subplots() # plot as a new figure\n",
    "ax.bar(df_k4.loc[:,\"chr\"], k4_plot.index) # bar graph parameters \n",
    "# titles:\n",
    "ax.set_title(\"K3 methylation counts in Drosophila Chromosome\")\n",
    "ax.set_xlabel(\"Chromosome\")\n",
    "ax.set_ylabel(\"Counts\")\n",
    "plt.show()"
   ]
  },
  {
   "cell_type": "markdown",
   "metadata": {},
   "source": [
    "# Question 3: plot K4, K9, K27\n"
   ]
  },
  {
   "cell_type": "markdown",
   "metadata": {},
   "source": [
    "Plot K4, K9, and K27 chromosome distributions on the same plot as subplots.\n"
   ]
  },
  {
   "cell_type": "code",
   "execution_count": 19,
   "metadata": {},
   "outputs": [
    {
     "data": {
      "image/png": "[encoded data removed]",
      "text/plain": [
       "<Figure size 2160x720 with 3 Axes>"
      ]
     },
     "metadata": {
      "needs_background": "light"
     },
     "output_type": "display_data"
    }
   ],
   "source": [
    "# do the same for other two files:\n",
    "columns = [\"chr\", \"start\", \"end\"]\n",
    "k9_plot = pd.read_table( \"../../qbb2020/data/K9me3.bed\", names=columns)\n",
    "k9_plot = k9_plot.sort_values(by=\"chr\")\n",
    "k27_plot = pd.read_table( \"../../qbb2020/data/K27me3.bed\", names=columns)\n",
    "k27_plot = k27_plot.sort_values(by=\"chr\")\n",
    "\n",
    "#make subplots for all three methylation data files:\n",
    "\n",
    "fig, ax = plt.subplots(ncols=3, figsize=(30,10), sharey=True)\n",
    "ax[0].bar(k4_plot.loc[:,\"chr\"], k4_plot.index)\n",
    "ax[1].bar(k9_plot.loc[:,\"chr\"], k9_plot.index)\n",
    "ax[2].bar(k27_plot.loc[:,\"chr\"], k27_plot.index)\n",
    "ax[0].set_ylabel(\"Frequency\")\n",
    "ax[0].set_xlabel(\"K4 methylation\")\n",
    "ax[1].set_xlabel(\"K9 methylation\")\n",
    "ax[2].set_xlabel(\"K27 methylation\")\n",
    "fig.suptitle(\"Chromsome Methylation in Drosophila\")\n",
    "plt.show()\n",
    "\n"
   ]
  },
  {
   "cell_type": "markdown",
   "metadata": {},
   "source": [
    "# Question 4: plot uniform widths\n"
   ]
  },
  {
   "cell_type": "code",
   "execution_count": 24,
   "metadata": {},
   "outputs": [
    {
     "data": {
      "image/png": "[encoded data removed]",
      "text/plain": [
       "<Figure size 2160x720 with 3 Axes>"
      ]
     },
     "metadata": {
      "needs_background": "light"
     },
     "output_type": "display_data"
    }
   ],
   "source": [
    "fig, ax = plt.subplots(ncols=3, figsize=(30,10), sharey=False)\n",
    "# make bar plots\n",
    "ax[0].bar(k4_plot.loc[:,\"chr\"], k4_plot.index)\n",
    "ax[1].bar(k9_plot.loc[:,\"chr\"], k9_plot.index)\n",
    "ax[2].bar(k27_plot.loc[:,\"chr\"], k27_plot.index)\n",
    "\n",
    "# label axes\n",
    "ax[0].set_ylabel(\"Frequency\")\n",
    "ax[0].set_xlabel(\"K4 methylation\")\n",
    "ax[1].set_xlabel(\"K9 methylation\")\n",
    "ax[2].set_xlabel(\"K27 methylation\")\n",
    "fig.suptitle(\"Chromsome Methylation in Drosophila\")\n",
    "plt.show()"
   ]
  }
 ],
 "metadata": {
  "kernelspec": {
   "display_name": "Python 3",
   "language": "python",
   "name": "python3"
  },
  "language_info": {
   "codemirror_mode": {
    "name": "ipython",
    "version": 3
   },
   "file_extension": ".py",
   "mimetype": "text/x-python",
   "name": "python",
   "nbconvert_exporter": "python",
   "pygments_lexer": "ipython3",
   "version": "3.6.10"
  }
 },
 "nbformat": 4,
 "nbformat_minor": 4
}
